{
 "cells": [
  {
   "cell_type": "markdown",
   "metadata": {
    "colab_type": "text",
    "id": "view-in-github"
   },
   "source": [
    "<a href=\"https://colab.research.google.com/github/HackElite-FYP/Legal-Research-Platform-Core/blob/main/colab-main.ipynb\" target=\"_parent\"><img src=\"https://colab.research.google.com/assets/colab-badge.svg\" alt=\"Open In Colab\"/></a>"
   ]
  },
  {
   "cell_type": "markdown",
   "metadata": {
    "id": "dfnt-3pHg1KK"
   },
   "source": [
    "# **GitHub Commands**"
   ]
  },
  {
   "cell_type": "code",
   "execution_count": 1,
   "metadata": {
    "cellView": "form",
    "id": "8ptD1MHrJvUC"
   },
   "outputs": [],
   "source": [
    "# @title GitHub Init\n",
    "# from google.colab import userdata\n",
    "\n",
    "# GH_UNAME = userdata.get('GH_UNAME')\n",
    "# GH_APIKEY = userdata.get('GH_APIKEY')\n",
    "# GH_EMAIL = userdata.get('GH_EMAIL')\n",
    "PRIMARY_REPO_NAME = 'Legal-Research-Platform'\n",
    "LOCAL_REPO_DIR = '/content/drive/MyDrive/FYP/GitHub/Legal-Research-Platform'\n",
    "\n",
    "# !git config --global user.name {GH_UNAME}\n",
    "# !git config --global user.email {GH_EMAIL}\n",
    "\n",
    "# %cd {LOCAL_REPO_DIR}"
   ]
  },
  {
   "cell_type": "code",
   "execution_count": 2,
   "metadata": {
    "cellView": "form",
    "colab": {
     "base_uri": "https://localhost:8080/"
    },
    "id": "Un2Cou8UUAW5",
    "outputId": "26c9456d-c128-40a0-d8a8-7abc2e883130"
   },
   "outputs": [
    {
     "name": "stdout",
     "output_type": "stream",
     "text": [
      "fatal: not a git repository (or any of the parent directories): .git\n",
      "fatal: not a git repository (or any of the parent directories): .git\n"
     ]
    }
   ],
   "source": [
    "# @title Git <-\n",
    "!git fetch\n",
    "\n",
    "!git pull"
   ]
  },
  {
   "cell_type": "code",
   "execution_count": 3,
   "metadata": {
    "cellView": "form",
    "colab": {
     "base_uri": "https://localhost:8080/"
    },
    "id": "YW1VIDAkdnoK",
    "outputId": "4abfc82e-1d8f-4f5c-a569-1b349689cc04"
   },
   "outputs": [
    {
     "name": "stdout",
     "output_type": "stream",
     "text": [
      "fatal: not a git repository (or any of the parent directories): .git\n"
     ]
    }
   ],
   "source": [
    "# @title Git ->\n",
    "# !git add .\n",
    "\n",
    "# !git status\n",
    "\n",
    "# !git commit -m 'updated layout'\n",
    "\n",
    "!git push"
   ]
  },
  {
   "cell_type": "markdown",
   "metadata": {
    "id": "N86tKpOPg-Qa"
   },
   "source": [
    "# **Scrapers**"
   ]
  },
  {
   "cell_type": "code",
   "execution_count": null,
   "metadata": {
    "colab": {
     "base_uri": "https://localhost:8080/",
     "height": 1000
    },
    "id": "RgxWOK9QiD4y",
    "outputId": "3dcdd725-fbe6-4df2-ddb6-ba8cc525a4c4"
   },
   "outputs": [
    {
     "name": "stdout",
     "output_type": "stream",
     "text": [
      "Browser Opened\n",
      "Found 45 year buttons\n",
      "Processing year: 2025\n",
      "No data found for year: 2025\n",
      "Processing year: 2024\n",
      "Found 32 rows for year: 2024\n",
      "Processing 32 rows with 16 threads, chunk size: 2\n"
     ]
    },
    {
     "name": "stderr",
     "output_type": "stream",
     "text": [
      "WARNING:urllib3.connectionpool:Connection pool is full, discarding connection: localhost. Connection pool size: 1\n",
      "WARNING:urllib3.connectionpool:Connection pool is full, discarding connection: localhost. Connection pool size: 1\n",
      "WARNING:urllib3.connectionpool:Connection pool is full, discarding connection: localhost. Connection pool size: 1\n",
      "WARNING:urllib3.connectionpool:Connection pool is full, discarding connection: localhost. Connection pool size: 1\n",
      "WARNING:urllib3.connectionpool:Connection pool is full, discarding connection: localhost. Connection pool size: 1\n",
      "WARNING:urllib3.connectionpool:Connection pool is full, discarding connection: localhost. Connection pool size: 1\n",
      "WARNING:urllib3.connectionpool:Connection pool is full, discarding connection: localhost. Connection pool size: 1\n",
      "WARNING:urllib3.connectionpool:Connection pool is full, discarding connection: localhost. Connection pool size: 1\n",
      "WARNING:urllib3.connectionpool:Connection pool is full, discarding connection: localhost. Connection pool size: 1\n",
      "WARNING:urllib3.connectionpool:Connection pool is full, discarding connection: localhost. Connection pool size: 1\n",
      "WARNING:urllib3.connectionpool:Connection pool is full, discarding connection: localhost. Connection pool size: 1\n",
      "WARNING:urllib3.connectionpool:Connection pool is full, discarding connection: localhost. Connection pool size: 1\n",
      "WARNING:urllib3.connectionpool:Connection pool is full, discarding connection: localhost. Connection pool size: 1\n",
      "WARNING:urllib3.connectionpool:Connection pool is full, discarding connection: localhost. Connection pool size: 1\n",
      "WARNING:urllib3.connectionpool:Connection pool is full, discarding connection: localhost. Connection pool size: 1\n"
     ]
    },
    {
     "name": "stdout",
     "output_type": "stream",
     "text": [
      "Downloaded: Saweera Foundation (Incorporation)_English.pdf\n",
      "Downloaded: Shop and Office Employees (Regulation of Employment and Remuneration) (Amendment)_English.pdf\n",
      "Downloaded: International Institute of Theravadha (Incorporation)_English.pdf\n",
      "Downloaded: Public Debt Management_English.pdf\n",
      "Downloaded: Partition (Amendment)_English.pdf\n",
      "Downloaded: Saweera Foundation (Incorporation)_Sinhala.pdf\n",
      "Downloaded: Shop and Office Employees (Regulation of Employment and Remuneration) (Amendment)_Sinhala.pdf\n",
      "Downloaded: International Institute of Theravadha (Incorporation)_Sinhala.pdf\n",
      "Downloaded: Public Debt Management_Sinhala.pdf\n"
     ]
    },
    {
     "name": "stderr",
     "output_type": "stream",
     "text": [
      "WARNING:urllib3.connectionpool:Connection pool is full, discarding connection: localhost. Connection pool size: 1\n"
     ]
    },
    {
     "name": "stdout",
     "output_type": "stream",
     "text": [
      "Downloaded: Partition (Amendment)_Sinhala.pdf\n",
      "Downloaded: Social Security Contribution Levy (Amendment)_English.pdf\n",
      "Downloaded: Value Added Tax (Amendment)_English.pdf\n",
      "Downloaded: Heart to Heart Trust Fund (Incorporation)_English.pdf\n",
      "Downloaded: Sri Lanka Baptist Sangamaya (Incorporation) (Amendment)_English.pdf\n",
      "Downloaded: Sri Balabhivurdhi Wardana Society (Incorporation)_English.pdf\n"
     ]
    },
    {
     "name": "stderr",
     "output_type": "stream",
     "text": [
      "WARNING:urllib3.connectionpool:Connection pool is full, discarding connection: localhost. Connection pool size: 1\n"
     ]
    },
    {
     "name": "stdout",
     "output_type": "stream",
     "text": [
      "Downloaded: Social Security Contribution Levy (Amendment)_Sinhala.pdf\n",
      "Downloaded: Value Added Tax (Amendment)_Sinhala.pdf\n",
      "Downloaded: Heart to Heart Trust Fund (Incorporation)_Sinhala.pdf\n",
      "Downloaded: Sri Lanka Baptist Sangamaya (Incorporation) (Amendment)_Sinhala.pdf\n"
     ]
    },
    {
     "name": "stderr",
     "output_type": "stream",
     "text": [
      "WARNING:urllib3.connectionpool:Connection pool is full, discarding connection: localhost. Connection pool size: 1\n",
      "WARNING:urllib3.connectionpool:Connection pool is full, discarding connection: localhost. Connection pool size: 1\n"
     ]
    },
    {
     "name": "stdout",
     "output_type": "stream",
     "text": [
      "Downloaded: Sri Balabhivurdhi Wardana Society (Incorporation)_Sinhala.pdf\n",
      "Downloaded: Samadhi Community Development Foundation (Incorporation)_English.pdf\n",
      "Downloaded: Dassana Bauddha Sanvidhanaya (Incorporation)_English.pdf\n",
      "Downloaded: National Hydrographic_English.pdf\n",
      "Downloaded: Contempt of a Court,Tribunal or Institution_English.pdf\n",
      "Downloaded: Online Safety_English.pdf\n",
      "Downloaded: Samadhi Community Development Foundation (Incorporation)_Sinhala.pdf\n",
      "Downloaded: Dassana Bauddha Sanvidhanaya (Incorporation)_Sinhala.pdf\n"
     ]
    },
    {
     "name": "stderr",
     "output_type": "stream",
     "text": [
      "WARNING:urllib3.connectionpool:Connection pool is full, discarding connection: localhost. Connection pool size: 1\n",
      "WARNING:urllib3.connectionpool:Connection pool is full, discarding connection: localhost. Connection pool size: 1\n"
     ]
    },
    {
     "name": "stdout",
     "output_type": "stream",
     "text": [
      "Downloaded: National Hydrographic_Sinhala.pdf\n",
      "Downloaded: Contempt of a Court,Tribunal or Institution_Sinhala.pdf\n",
      "Downloaded: The Recognition and Enforcement of International Settlement Agreements Resulting from Mediation_English.pdf\n",
      "Downloaded: Notaries (Amendment)_English.pdf\n",
      "Downloaded: Office of National Unity and Reconciliation_English.pdf\n",
      "Downloaded: Online Safety_Sinhala.pdf\n",
      "Downloaded: Mediation Board (Amendment)_English.pdf\n",
      "Downloaded: The Recognition and Enforcement of International Settlement Agreements Resulting from Mediation_Sinhala.pdf\n",
      "Downloaded: Office of National Unity and Reconciliation_Sinhala.pdf\n",
      "Downloaded: Mediation Board (Amendment)_Sinhala.pdf\n",
      "Downloaded: Powers of Attorney (Amendment)_English.pdf\n",
      "Downloaded: Notaries (Amendment)_Sinhala.pdf\n",
      "Downloaded: Prevention of Frauds (Amendment)_English.pdf\n",
      "Downloaded: Powers of Attorney (Amendment)_Sinhala.pdf\n",
      "Downloaded: Prevention of Frauds (Amendment)_Sinhala.pdf\n",
      "Downloaded: Registration of Documents (Amendment)_English.pdf\n",
      "Downloaded: Recovery of Loans by Banks (Special Provisions) (Amendment)_English.pdf\n",
      "Downloaded: Finance Leasing (Amendment)_English.pdf\n",
      "Downloaded: Companies (Amendment)_English.pdf\n",
      "Downloaded: Code of Criminal Procedure (Amendment)_English.pdf\n",
      "Downloaded: Trust Receipts (Amendment)_English.pdf\n",
      "Downloaded: Mortgage (Amendment)_English.pdf\n",
      "Downloaded: Banking (Amendment)_English.pdf\n",
      "Downloaded: Secured Transactions_English.pdf\n",
      "Downloaded: Registration of Documents (Amendment)_Sinhala.pdf\n",
      "Downloaded: Recovery of Loans by Banks (Special Provisions) (Amendment)_Sinhala.pdf\n",
      "Downloaded: Finance Leasing (Amendment)_Sinhala.pdf\n",
      "Downloaded: Companies (Amendment)_Sinhala.pdf\n",
      "Downloaded: Code of Criminal Procedure (Amendment)_Sinhala.pdf\n",
      "Downloaded: Trust Receipts (Amendment)_Sinhala.pdf\n",
      "Downloaded: Mortgage (Amendment)_Sinhala.pdf\n",
      "Downloaded: Banking (Amendment)_Sinhala.pdf\n",
      "Downloaded: Secured Transactions_Sinhala.pdf\n"
     ]
    },
    {
     "name": "stderr",
     "output_type": "stream",
     "text": [
      "WARNING:urllib3.connectionpool:Retrying (Retry(total=1, connect=None, read=None, redirect=None, status=None)) after connection broken by 'ConnectTimeoutError(<urllib3.connection.HTTPSConnection object at 0x7cec55750e50>, 'Connection to documents.gov.lk timed out. (connect timeout=None)')': /view/acts/2024/4/22-2024_E.pdf\n",
      "WARNING:urllib3.connectionpool:Retrying (Retry(total=1, connect=None, read=None, redirect=None, status=None)) after connection broken by 'ConnectTimeoutError(<urllib3.connection.HTTPSConnection object at 0x7cec64120790>, 'Connection to documents.gov.lk timed out. (connect timeout=None)')': /view/acts/2024/6/30-2024_E.pdf\n"
     ]
    },
    {
     "name": "stdout",
     "output_type": "stream",
     "text": [
      "Downloaded: Inland Trust Receipts (Amendment)_English.pdf\n",
      "Downloaded: Kelaniya Buddhist Women's Charitable Society (Incorporation)_English.pdf\n",
      "Downloaded: Inland Trust Receipts (Amendment)_Sinhala.pdf\n",
      "Downloaded: Kelaniya Buddhist Women's Charitable Society (Incorporation)_Sinhala.pdf\n",
      "Processing year: 2023\n",
      "Found 34 rows for year: 2023\n",
      "Processing 34 rows with 17 threads, chunk size: 2\n"
     ]
    },
    {
     "name": "stderr",
     "output_type": "stream",
     "text": [
      "WARNING:urllib3.connectionpool:Connection pool is full, discarding connection: localhost. Connection pool size: 1\n",
      "WARNING:urllib3.connectionpool:Connection pool is full, discarding connection: localhost. Connection pool size: 1\n",
      "WARNING:urllib3.connectionpool:Connection pool is full, discarding connection: localhost. Connection pool size: 1\n",
      "WARNING:urllib3.connectionpool:Connection pool is full, discarding connection: localhost. Connection pool size: 1\n",
      "WARNING:urllib3.connectionpool:Connection pool is full, discarding connection: localhost. Connection pool size: 1\n",
      "WARNING:urllib3.connectionpool:Connection pool is full, discarding connection: localhost. Connection pool size: 1\n",
      "WARNING:urllib3.connectionpool:Connection pool is full, discarding connection: localhost. Connection pool size: 1\n",
      "WARNING:urllib3.connectionpool:Connection pool is full, discarding connection: localhost. Connection pool size: 1\n",
      "WARNING:urllib3.connectionpool:Connection pool is full, discarding connection: localhost. Connection pool size: 1\n",
      "WARNING:urllib3.connectionpool:Connection pool is full, discarding connection: localhost. Connection pool size: 1\n",
      "WARNING:urllib3.connectionpool:Connection pool is full, discarding connection: localhost. Connection pool size: 1\n",
      "WARNING:urllib3.connectionpool:Connection pool is full, discarding connection: localhost. Connection pool size: 1\n",
      "WARNING:urllib3.connectionpool:Connection pool is full, discarding connection: localhost. Connection pool size: 1\n",
      "WARNING:urllib3.connectionpool:Connection pool is full, discarding connection: localhost. Connection pool size: 1\n",
      "WARNING:urllib3.connectionpool:Connection pool is full, discarding connection: localhost. Connection pool size: 1\n",
      "WARNING:urllib3.connectionpool:Connection pool is full, discarding connection: localhost. Connection pool size: 1\n"
     ]
    },
    {
     "name": "stdout",
     "output_type": "stream",
     "text": [
      "Downloaded: Value Added Tax (Amendment)_English.pdf\n",
      "Downloaded: Finance_English.pdf\n",
      "Downloaded: Anti - Corruption (Amendment)_English.pdf\n",
      "Downloaded: Galaha Bhaddrawathie National Bhikku Care Centre Trust_English.pdf\n",
      "Downloaded: Value Added Tax (Amendment)_Sinhala.pdf\n",
      "Downloaded: Finance_Sinhala.pdf\n",
      "Downloaded: Anti - Corruption (Amendment)_Sinhala.pdf\n",
      "Downloaded: Appropriation Act_English.pdf\n",
      "Downloaded: Inland Revenue (Amendment)_English.pdf\n",
      "Downloaded: Galaha Bhaddrawathie National Bhikku Care Centre Trust_Sinhala.pdf\n",
      "Downloaded: Social Security Contribution Levy (Amendment)_English.pdf\n",
      "Downloaded: Inland Revenue (Amendment)_Sinhala.pdf\n",
      "Downloaded: Central Bank of Sri Lanka_English.pdf\n",
      "Downloaded: Banking (Special Provisions)_English.pdf\n",
      "Downloaded: Betting and Gaming Levy (Amendment)_English.pdf\n",
      "Downloaded: Appropriation Act_Sinhala.pdf\n",
      "Downloaded: Social Security Contribution Levy (Amendment)_Sinhala.pdf\n",
      "Downloaded: Appropriation (Amendment)_English.pdf\n",
      "Downloaded: Sri Lanka Institute of Taxation (Incorporation) (Amendment)_English.pdf\n",
      "Downloaded: Appropriation (Amendment)_Sinhala.pdf\n"
     ]
    },
    {
     "name": "stderr",
     "output_type": "stream",
     "text": [
      "WARNING:urllib3.connectionpool:Connection pool is full, discarding connection: localhost. Connection pool size: 1\n"
     ]
    },
    {
     "name": "stdout",
     "output_type": "stream",
     "text": [
      "Downloaded: Central Bank of Sri Lanka_Sinhala.pdf\n",
      "Downloaded: Banking (Special Provisions)_Sinhala.pdf\n",
      "Downloaded: Betting and Gaming Levy (Amendment)_Sinhala.pdf\n",
      "Downloaded: Sri Lanka Institute of Taxation (Incorporation) (Amendment)_Sinhala.pdf\n",
      "Downloaded: Assistance to and Protection of Victims of Crime and Witnesses_English.pdf\n",
      "Downloaded: Carriage by Air (Amendment)_English.pdf\n",
      "Downloaded: Parliamentary Budget Office_English.pdf\n",
      "Downloaded: Civil Procedure Code (Amendment)_English.pdf\n",
      "Downloaded: Anti-Corruption_English.pdf\n",
      "Downloaded: Parliamentary Budget Office_Sinhala.pdf\n",
      "Downloaded: Civil Procedure Code (Amendment)_Sinhala.pdf\n",
      "Downloaded: Assistance to and Protection of Victims of Crime and Witnesses_Sinhala.pdf\n",
      "Downloaded: Carriage by Air (Amendment)_Sinhala.pdf\n",
      "Downloaded: Rathanatissa Peace Foundation (Incorporation)_English.pdf\n",
      "Downloaded: Bureau of Rehabilitation_English.pdf\n",
      "Downloaded: Anti-Corruption_Sinhala.pdf\n",
      "Downloaded: Rathanatissa Peace Foundation (Incorporation)_Sinhala.pdf\n",
      "Downloaded: Inland Revenue (Amendment)_English.pdf\n",
      "Downloaded: Bureau of Rehabilitation_Sinhala.pdf\n",
      "Downloaded: Recovery of Possession of Premises Given on Lease_English.pdf\n",
      "Downloaded: Regulation of Election Expenditure_English.pdf\n",
      "Downloaded: Inland Revenue (Amendment)_Sinhala.pdf\n",
      "Downloaded: Recovery of Possession of Premises Given on Lease_Sinhala.pdf\n",
      "Downloaded: Regulation of Election Expenditure_Sinhala.pdf\n",
      "Downloaded: Sri Lanka Ports Authority (Amendment)_English.pdf\n",
      "Downloaded: Elections (Special Provisions)_English.pdf\n",
      "Downloaded: Fisheries and Aquatic Resources (Amendment)_English.pdf\n",
      "Downloaded: Civil Aviation (Amendment)_English.pdf\n",
      "Downloaded: Civil Procedure Code (Amendment)_English.pdf\n",
      "Downloaded: Conferring the Honour of Senior Instructing Attorneys-at-Law_English.pdf\n",
      "Downloaded: Balapitiya Sri Rahularama Purana Viharastha Samanera Akalpa Sangwardena Bikshu Vidyalaya (Incorporation)_English.pdf\n",
      "Downloaded: Ayurveda (Amendment)_English.pdf\n",
      "Downloaded: National Eye Bank Trust of Sri Lanka_English.pdf\n",
      "Downloaded: Sri Lanka Ports Authority (Amendment)_Sinhala.pdf\n",
      "Downloaded: Elections (Special Provisions)_Sinhala.pdf\n",
      "Downloaded: Civil Aviation (Amendment)_Sinhala.pdf\n",
      "Downloaded: Fisheries and Aquatic Resources (Amendment)_Sinhala.pdf\n",
      "Downloaded: Civil Procedure Code (Amendment)_Sinhala.pdf\n",
      "Downloaded: Conferring the Honour of Senior Instructing Attorneys-at-Law_Sinhala.pdf\n",
      "Downloaded: Balapitiya Sri Rahularama Purana Viharastha Samanera Akalpa Sangwardena Bikshu Vidyalaya (Incorporation)_Sinhala.pdf\n",
      "Downloaded: National Eye Bank Trust of Sri Lanka_Sinhala.pdf\n",
      "Downloaded: Ayurveda (Amendment)_Sinhala.pdf\n"
     ]
    },
    {
     "name": "stderr",
     "output_type": "stream",
     "text": [
      "WARNING:urllib3.connectionpool:Retrying (Retry(total=1, connect=None, read=None, redirect=None, status=None)) after connection broken by 'ConnectTimeoutError(<urllib3.connection.HTTPSConnection object at 0x7cec64161b90>, 'Connection to documents.gov.lk timed out. (connect timeout=None)')': /view/acts/2023/9/18-2023_E.pdf\n",
      "WARNING:urllib3.connectionpool:Retrying (Retry(total=1, connect=None, read=None, redirect=None, status=None)) after connection broken by 'ConnectTimeoutError(<urllib3.connection.HTTPSConnection object at 0x7cec55750dd0>, 'Connection to documents.gov.lk timed out. (connect timeout=None)')': /view/acts/2023/11/30-2023_E.pdf\n",
      "WARNING:urllib3.connectionpool:Retrying (Retry(total=1, connect=None, read=None, redirect=None, status=None)) after connection broken by 'ConnectTimeoutError(<urllib3.connection.HTTPSConnection object at 0x7cec64193a10>, 'Connection to documents.gov.lk timed out. (connect timeout=None)')': /view/acts/2023/11/29-2023_E.pdf\n"
     ]
    },
    {
     "name": "stdout",
     "output_type": "stream",
     "text": [
      "Downloaded: Chartered Institute of Transport of Sri Lanka (Incorporation) (Amendment)_English.pdf\n",
      "Downloaded: Civil Procedure Code (Amendment)_English.pdf\n",
      "Downloaded: Local Authorities Elections (Amendment)_English.pdf\n",
      "Downloaded: Chartered Institute of Transport of Sri Lanka (Incorporation) (Amendment)_Sinhala.pdf\n",
      "Downloaded: Civil Procedure Code (Amendment)_Sinhala.pdf\n",
      "Downloaded: Local Authorities Elections (Amendment)_Sinhala.pdf\n",
      "Processing year: 2022\n",
      "Found 46 rows for year: 2022\n",
      "Processing 46 rows with 20 threads, chunk size: 3\n"
     ]
    },
    {
     "name": "stderr",
     "output_type": "stream",
     "text": [
      "WARNING:urllib3.connectionpool:Connection pool is full, discarding connection: localhost. Connection pool size: 1\n",
      "WARNING:urllib3.connectionpool:Connection pool is full, discarding connection: localhost. Connection pool size: 1\n",
      "WARNING:urllib3.connectionpool:Connection pool is full, discarding connection: localhost. Connection pool size: 1\n",
      "WARNING:urllib3.connectionpool:Connection pool is full, discarding connection: localhost. Connection pool size: 1\n",
      "WARNING:urllib3.connectionpool:Connection pool is full, discarding connection: localhost. Connection pool size: 1\n",
      "WARNING:urllib3.connectionpool:Connection pool is full, discarding connection: localhost. Connection pool size: 1\n",
      "WARNING:urllib3.connectionpool:Connection pool is full, discarding connection: localhost. Connection pool size: 1\n",
      "WARNING:urllib3.connectionpool:Connection pool is full, discarding connection: localhost. Connection pool size: 1\n",
      "WARNING:urllib3.connectionpool:Connection pool is full, discarding connection: localhost. Connection pool size: 1\n",
      "WARNING:urllib3.connectionpool:Connection pool is full, discarding connection: localhost. Connection pool size: 1\n",
      "WARNING:urllib3.connectionpool:Connection pool is full, discarding connection: localhost. Connection pool size: 1\n",
      "WARNING:urllib3.connectionpool:Connection pool is full, discarding connection: localhost. Connection pool size: 1\n",
      "WARNING:urllib3.connectionpool:Connection pool is full, discarding connection: localhost. Connection pool size: 1\n",
      "WARNING:urllib3.connectionpool:Connection pool is full, discarding connection: localhost. Connection pool size: 1\n",
      "WARNING:urllib3.connectionpool:Connection pool is full, discarding connection: localhost. Connection pool size: 1\n",
      "WARNING:urllib3.connectionpool:Connection pool is full, discarding connection: localhost. Connection pool size: 1\n",
      "WARNING:urllib3.connectionpool:Connection pool is full, discarding connection: localhost. Connection pool size: 1\n",
      "WARNING:urllib3.connectionpool:Connection pool is full, discarding connection: localhost. Connection pool size: 1\n",
      "WARNING:urllib3.connectionpool:Connection pool is full, discarding connection: localhost. Connection pool size: 1\n"
     ]
    },
    {
     "name": "stdout",
     "output_type": "stream",
     "text": [
      "Downloaded: Inland Revenue (Amendment)_English.pdf\n",
      "Downloaded: Value Added Tax (Amendment)_English.pdf\n",
      "Downloaded: Appropriation (Amendment)_English.pdf\n",
      "Downloaded: Appropriation_English.pdf\n",
      "Downloaded: Inland Revenue (Amendment)_Sinhala.pdf\n",
      "Downloaded: Value Added Tax (Amendment)_Sinhala.pdf\n"
     ]
    },
    {
     "name": "stderr",
     "output_type": "stream",
     "text": [
      "WARNING:urllib3.connectionpool:Connection pool is full, discarding connection: localhost. Connection pool size: 1\n"
     ]
    },
    {
     "name": "stdout",
     "output_type": "stream",
     "text": [
      "Downloaded: Appropriation (Amendment)_Sinhala.pdf\n",
      "Downloaded: Sri Lanka Rupavahini Corporation (Amendment)_English.pdf\n",
      "Downloaded: Appropriation_Sinhala.pdf\n",
      "Downloaded: Sri Lanka Rupavahini Corporation (Amendment)_Sinhala.pdf\n",
      "Downloaded: Industrial Disputes (Amendment)_English.pdf\n",
      "Downloaded: Social Security Contribution Levy_English.pdf\n",
      "Downloaded: Termination of Employment of Workmen (Special Provisions) (Amendment)_English.pdf\n",
      "Downloaded: Industrial Disputes (Amendment)_English.pdf\n",
      "Downloaded: Industrial Disputes (Amendment)_Sinhala.pdf\n"
     ]
    },
    {
     "name": "stderr",
     "output_type": "stream",
     "text": [
      "WARNING:urllib3.connectionpool:Connection pool is full, discarding connection: localhost. Connection pool size: 1\n"
     ]
    },
    {
     "name": "stdout",
     "output_type": "stream",
     "text": [
      "Downloaded: Industrial Disputes (Amendment)_Sinhala.pdf\n",
      "Downloaded: Termination of Employment of Workmen (Special Provisions) (Amendment)_Sinhala.pdf\n",
      "Downloaded: Social Security Contribution Levy_Sinhala.pdf\n",
      "Downloaded: Sisira Jayakody Siyapatha Foundation (Incorporation)_English.pdf\n",
      "Downloaded: Civil Procedure Code (Amendment)_English.pdf\n",
      "Downloaded: Civil Procedure Code (Amendment)_Sinhala.pdf\n",
      "Downloaded: Appropriation (Amendment)_English.pdf\n",
      "Downloaded: Code of Criminal Procedure (Amendment)_English.pdf\n",
      "Downloaded: Sisira Jayakody Siyapatha Foundation (Incorporation)_Sinhala.pdf\n",
      "Downloaded: Code of Criminal Procedure (Amendment)_Sinhala.pdf\n",
      "Downloaded: Industrial Disputes_English.pdf\n",
      "Downloaded: Appropriation (Amendment)_Sinhala.pdf\n",
      "Downloaded: Sri Lanka Electricity (Amendment)_English.pdf\n",
      "Downloaded: Industrial Disputes_Sinhala.pdf\n",
      "Downloaded: Sri Shakyasinharama Viharastha Karyasadhaka Sanvidanaya (Incorporation)_English.pdf\n",
      "Downloaded: Sri Lanka Electricity (Amendment)_Sinhala.pdf\n",
      "Downloaded: Surcharge Tax_English.pdf\n",
      "Downloaded: Value Added Tax (Amendment)_English.pdf\n",
      "Downloaded: Sri Shakyasinharama Viharastha Karyasadhaka Sanvidanaya (Incorporation)_Sinhala.pdf\n",
      "Downloaded: Surcharge Tax_Sinhala.pdf\n",
      "Downloaded: Prevention of Terrorism (Temporary Provisions) (Amendment)_English.pdf\n",
      "Downloaded: Value Added Tax (Amendment)_Sinhala.pdf\n",
      "Downloaded: Workmen's Compensation (Amendment)_English.pdf\n",
      "Downloaded: Prevention of Terrorism (Temporary Provisions) (Amendment)_Sinhala.pdf\n",
      "Downloaded: Personal Data Protection_English.pdf\n",
      "Downloaded: Land Development (Amendment)_English.pdf\n",
      "Downloaded: Workmen's Compensation (Amendment)_Sinhala.pdf\n",
      "Downloaded: Intellectual Property (Amendment)_English.pdf\n",
      "Downloaded: Land Development (Amendment)_Sinhala.pdf\n",
      "Downloaded: Personal Data Protection_Sinhala.pdf\n",
      "Downloaded: Intellectual Property (Amendment)_Sinhala.pdf\n",
      "Downloaded: Code of Criminal Procedure (Amendment)_English.pdf\n",
      "Downloaded: Fauna and Flora Protection (Amendment)_English.pdf\n",
      "Downloaded: Prohibition of Anti-Personnel Mines_English.pdf\n",
      "Downloaded: Code of Criminal Procedure (Amendment)_Sinhala.pdf\n",
      "Downloaded: Fauna and Flora Protection (Amendment)_Sinhala.pdf\n",
      "Downloaded: Prohibition of Anti-Personnel Mines_Sinhala.pdf\n",
      "Downloaded: Judicature (Amendment)_English.pdf\n",
      "Downloaded: Civil Procedure Code (Amendment)_English.pdf\n",
      "Downloaded: Provincial Councils (Transfer of Stamp Duty) (Amendment)_English.pdf\n",
      "Downloaded: Judicature (Amendment)_Sinhala.pdf\n",
      "Downloaded: Mahapola Higher Education Scholarship Trust Fund (Amendment)_English.pdf\n",
      "Downloaded: Civil Procedure Code (Amendment)_Sinhala.pdf\n",
      "Downloaded: Provincial Councils (Transfer of Stamp Duty) (Amendment)_Sinhala.pdf\n",
      "Downloaded: Mahapola Higher Education Scholarship Trust Fund (Amendment)_Sinhala.pdf\n",
      "Downloaded: Civil Procedure Code (Amendment)_English.pdf\n",
      "Downloaded: Notaries (Amendment)_English.pdf\n",
      "Downloaded: High Court of the Provinces (Special Provisions) (Amendment)_English.pdf\n",
      "Downloaded: Petroleum Products (Special Provisions) (Amendment)_English.pdf\n",
      "Downloaded: Dangerous Animals (Amendment)_English.pdf\n",
      "Downloaded: Prevention of Frauds (Amendment)_English.pdf\n",
      "Downloaded: 21st Amendment to the Constitution_English.pdf\n",
      "Downloaded: Small claims Courts' Procedure_English.pdf\n",
      "Downloaded: Civil Procedure Code (Amendment)_Sinhala.pdf\n",
      "Downloaded: Notaries (Amendment)_Sinhala.pdf\n",
      "Downloaded: High Court of the Provinces (Special Provisions) (Amendment)_Sinhala.pdf\n",
      "Downloaded: Petroleum Products (Special Provisions) (Amendment)_Sinhala.pdf\n",
      "Downloaded: Dangerous Animals (Amendment)_Sinhala.pdf\n",
      "Downloaded: Prevention of Frauds (Amendment)_Sinhala.pdf\n",
      "Downloaded: Small claims Courts' Procedure_Sinhala.pdf\n",
      "Downloaded: 21st Amendment to the Constitution_Sinhala.pdf\n",
      "Downloaded: Poisons, Opium and Dangerous Drugs (Amendment)_English.pdf\n",
      "Downloaded: Poisons, Opium and Dangerous Drugs (Amendment)_Sinhala.pdf\n"
     ]
    },
    {
     "name": "stderr",
     "output_type": "stream",
     "text": [
      "WARNING:urllib3.connectionpool:Retrying (Retry(total=1, connect=None, read=None, redirect=None, status=None)) after connection broken by 'ConnectTimeoutError(<urllib3.connection.HTTPSConnection object at 0x7cec64190f50>, 'Connection to documents.gov.lk timed out. (connect timeout=None)')': /view/acts/2022/11/39-2022_E.pdf\n",
      "WARNING:urllib3.connectionpool:Retrying (Retry(total=1, connect=None, read=None, redirect=None, status=None)) after connection broken by 'ConnectTimeoutError(<urllib3.connection.HTTPSConnection object at 0x7cec641d97d0>, 'Connection to documents.gov.lk timed out. (connect timeout=None)')': /view/acts/2022/10/28-2022_E.pdf\n",
      "WARNING:urllib3.connectionpool:Retrying (Retry(total=1, connect=None, read=None, redirect=None, status=None)) after connection broken by 'ConnectTimeoutError(<urllib3.connection.HTTPSConnection object at 0x7cec64d11190>, 'Connection to documents.gov.lk timed out. (connect timeout=None)')': /view/acts/2022/10/29-2022_E.pdf\n",
      "WARNING:urllib3.connectionpool:Retrying (Retry(total=1, connect=None, read=None, redirect=None, status=None)) after connection broken by 'ConnectTimeoutError(<urllib3.connection.HTTPSConnection object at 0x7cec55752850>, 'Connection to documents.gov.lk timed out. (connect timeout=None)')': /view/acts/2022/10/32-2022_E.pdf\n",
      "WARNING:urllib3.connectionpool:Retrying (Retry(total=1, connect=None, read=None, redirect=None, status=None)) after connection broken by 'ConnectTimeoutError(<urllib3.connection.HTTPSConnection object at 0x7cec55753f10>, 'Connection to documents.gov.lk timed out. (connect timeout=None)')': /view/acts/2022/11/38-2022_E.pdf\n",
      "WARNING:urllib3.connectionpool:Retrying (Retry(total=1, connect=None, read=None, redirect=None, status=None)) after connection broken by 'ConnectTimeoutError(<urllib3.connection.HTTPSConnection object at 0x7cec6417d9d0>, 'Connection to documents.gov.lk timed out. (connect timeout=None)')': /view/acts/2022/11/34-2022_E.pdf\n",
      "WARNING:urllib3.connectionpool:Retrying (Retry(total=1, connect=None, read=None, redirect=None, status=None)) after connection broken by 'ConnectTimeoutError(<urllib3.connection.HTTPSConnection object at 0x7cec64120b50>, 'Connection to documents.gov.lk timed out. (connect timeout=None)')': /view/acts/2022/11/37-2022_E.pdf\n"
     ]
    },
    {
     "name": "stdout",
     "output_type": "stream",
     "text": [
      "Downloaded: Powers of Attorney (Amendment)_English.pdf\n",
      "Downloaded: Code of Criminal Procedure (Amendment)_English.pdf\n",
      "Downloaded: Children and Young Persons (Amendment)_English.pdf\n",
      "Downloaded: Registration of Documents (Amendment)_English.pdf\n",
      "Downloaded: Kandyan Marriage and Divorce (Amendment)_English.pdf\n",
      "Downloaded: Wills (Amendment)_English.pdf\n",
      "Downloaded: Judicature (Amendment)_English.pdf\n",
      "Downloaded: Powers of Attorney (Amendment)_Sinhala.pdf\n",
      "Downloaded: Code of Criminal Procedure (Amendment)_Sinhala.pdf\n",
      "Downloaded: Children and Young Persons (Amendment)_Sinhala.pdf\n",
      "Downloaded: Registration of Documents (Amendment)_Sinhala.pdf\n",
      "Downloaded: Kandyan Marriage and Divorce (Amendment)_Sinhala.pdf\n",
      "Downloaded: Wills (Amendment)_Sinhala.pdf\n",
      "Downloaded: Judicature (Amendment)_Sinhala.pdf\n",
      "Processing year: 2021\n",
      "Found 30 rows for year: 2021\n",
      "Processing 30 rows with 15 threads, chunk size: 2\n"
     ]
    },
    {
     "name": "stderr",
     "output_type": "stream",
     "text": [
      "WARNING:urllib3.connectionpool:Connection pool is full, discarding connection: localhost. Connection pool size: 1\n",
      "WARNING:urllib3.connectionpool:Connection pool is full, discarding connection: localhost. Connection pool size: 1\n",
      "WARNING:urllib3.connectionpool:Connection pool is full, discarding connection: localhost. Connection pool size: 1\n",
      "WARNING:urllib3.connectionpool:Connection pool is full, discarding connection: localhost. Connection pool size: 1\n",
      "WARNING:urllib3.connectionpool:Connection pool is full, discarding connection: localhost. Connection pool size: 1\n",
      "WARNING:urllib3.connectionpool:Connection pool is full, discarding connection: localhost. Connection pool size: 1\n",
      "WARNING:urllib3.connectionpool:Connection pool is full, discarding connection: localhost. Connection pool size: 1\n",
      "WARNING:urllib3.connectionpool:Connection pool is full, discarding connection: localhost. Connection pool size: 1\n",
      "WARNING:urllib3.connectionpool:Connection pool is full, discarding connection: localhost. Connection pool size: 1\n",
      "WARNING:urllib3.connectionpool:Connection pool is full, discarding connection: localhost. Connection pool size: 1\n",
      "WARNING:urllib3.connectionpool:Connection pool is full, discarding connection: localhost. Connection pool size: 1\n",
      "WARNING:urllib3.connectionpool:Connection pool is full, discarding connection: localhost. Connection pool size: 1\n",
      "WARNING:urllib3.connectionpool:Connection pool is full, discarding connection: localhost. Connection pool size: 1\n",
      "WARNING:urllib3.connectionpool:Connection pool is full, discarding connection: localhost. Connection pool size: 1\n",
      "WARNING:urllib3.connectionpool:Connection pool is full, discarding connection: localhost. Connection pool size: 1\n"
     ]
    },
    {
     "name": "stdout",
     "output_type": "stream",
     "text": [
      "Downloaded: Coronavirus Disease 2019 (Covid - 19) (Temporary Provisions)_English.pdf\n",
      "Downloaded: Finance_English.pdf\n",
      "Downloaded: Youthful Offenders (Training Schools) (Amendment)_English.pdf\n",
      "Downloaded: Penal Code (Amendment)_English.pdf\n",
      "Downloaded: Consumer Affairs Authority (Amendment)_English.pdf\n",
      "Downloaded: Petroleum Resources_English.pdf\n",
      "Downloaded: Immigrants and Emigrants (Amendment)_English.pdf\n",
      "Downloaded: Minimum Retirement Age of Workers_English.pdf\n",
      "Downloaded: Finance_Sinhala.pdf\n",
      "Downloaded: Youthful Offenders (Training Schools) (Amendment)_Sinhala.pdf\n",
      "Downloaded: Penal Code (Amendment)_Sinhala.pdf\n",
      "Downloaded: Consumer Affairs Authority (Amendment)_Sinhala.pdf\n"
     ]
    },
    {
     "name": "stderr",
     "output_type": "stream",
     "text": [
      "WARNING:urllib3.connectionpool:Connection pool is full, discarding connection: localhost. Connection pool size: 1\n"
     ]
    },
    {
     "name": "stdout",
     "output_type": "stream",
     "text": [
      "Downloaded: Immigrants and Emigrants (Amendment)_Sinhala.pdf\n",
      "Downloaded: Coronavirus Disease 2019 (Covid - 19) (Temporary Provisions)_Sinhala.pdf\n",
      "Downloaded: Minimum Retirement Age of Workers_Sinhala.pdf\n",
      "Downloaded: Petroleum Resources_Sinhala.pdf\n",
      "Downloaded: Code of Criminal Procedure (Amedment)_English.pdf\n",
      "Downloaded: Convention against Torture and other Cruel, Inhuman or Degrading Treatment or Punishment (Amendment)_English.pdf\n",
      "Downloaded: Appropriation Act_English.pdf\n",
      "Downloaded: Fiscal Management (Responsibility) (Amendment)_English.pdf\n",
      "Downloaded: Sri Lanka Land Development Corporation (Amendment)_English.pdf\n",
      "Downloaded: Fiscal Management (Responsibility) (Amendment)_Sinhala.pdf\n",
      "Downloaded: Shop and Office Employees (Regulation of Employment and Remuneration) (Amendment)_English.pdf\n",
      "Downloaded: Colombo Port City Economic Commission_English.pdf\n",
      "Downloaded: Value Added Tax (Amendment)_English.pdf\n",
      "Downloaded: Code of Criminal Procedure (Amedment)_Sinhala.pdf\n",
      "Downloaded: Convention against Torture and other Cruel, Inhuman or Degrading Treatment or Punishment (Amendment)_Sinhala.pdf\n",
      "Downloaded: Shop and Office Employees (Regulation of Employment and Remuneration) (Amendment)_Sinhala.pdf\n",
      "Downloaded: Inland Revenue (Amendment)_English.pdf\n",
      "Downloaded: Sri Lanka Land Development Corporation (Amendment)_Sinhala.pdf\n"
     ]
    },
    {
     "name": "stderr",
     "output_type": "stream",
     "text": [
      "WARNING:urllib3.connectionpool:Retrying (Retry(total=1, connect=None, read=None, redirect=None, status=None)) after connection broken by 'RemoteDisconnected('Remote end closed connection without response')': /view/acts/2021/5/10-2021_S.pdf\n"
     ]
    },
    {
     "name": "stdout",
     "output_type": "stream",
     "text": [
      "Downloaded: Employment of Women, Young Persons and Children (Amendment)_English.pdf\n",
      "Downloaded: Factories (Amendment)_English.pdf\n",
      "Downloaded: Appropriation Act_Sinhala.pdf\n",
      "Downloaded: Colombo Port City Economic Commission_Sinhala.pdf\n",
      "Downloaded: Employment of Women, Young Persons and Children (Amendment)_Sinhala.pdf\n",
      "Downloaded: Penal Code (Amendment)_English.pdf\n"
     ]
    },
    {
     "name": "stderr",
     "output_type": "stream",
     "text": [
      "WARNING:urllib3.connectionpool:Retrying (Retry(total=1, connect=None, read=None, redirect=None, status=None)) after connection broken by 'RemoteDisconnected('Remote end closed connection without response')': /view/acts/2021/1/07-2021_E.pdf\n"
     ]
    },
    {
     "name": "stdout",
     "output_type": "stream",
     "text": [
      "Downloaded: Minimum Wages (Indian Labour) (Amendment)_English.pdf\n",
      "Downloaded: Evidence (Amendment)_English.pdf\n",
      "Downloaded: Intellectual Property (Amendment)_English.pdf\n",
      "Downloaded: Value Added Tax (Amendment)_Sinhala.pdf\n",
      "Downloaded: Minimum Wages (Indian Labour) (Amendment)_Sinhala.pdf\n",
      "Downloaded: Factories (Amendment)_Sinhala.pdf\n",
      "Downloaded: Intellectual Property (Amendment)_Sinhala.pdf\n",
      "Downloaded: Penal Code (Amendment)_Sinhala.pdf\n",
      "Downloaded: Evidence (Amendment)_Sinhala.pdf\n"
     ]
    },
    {
     "name": "stderr",
     "output_type": "stream",
     "text": [
      "WARNING:urllib3.connectionpool:Retrying (Retry(total=1, connect=None, read=None, redirect=None, status=None)) after connection broken by 'ConnectTimeoutError(<urllib3.connection.HTTPSConnection object at 0x7cec642a0d50>, 'Connection to documents.gov.lk timed out. (connect timeout=None)')': /view/acts/2021/11/26-2021_E.pdf\n",
      "WARNING:urllib3.connectionpool:Retrying (Retry(total=1, connect=None, read=None, redirect=None, status=None)) after connection broken by 'ConnectTimeoutError(<urllib3.connection.HTTPSConnection object at 0x7cec9807d5d0>, 'Connection to documents.gov.lk timed out. (connect timeout=None)')': /view/acts/2021/10/23-2021_E.pdf\n",
      "WARNING:urllib3.connectionpool:Retrying (Retry(total=1, connect=None, read=None, redirect=None, status=None)) after connection broken by 'ConnectTimeoutError(<urllib3.connection.HTTPSConnection object at 0x7cec556fb6d0>, 'Connection to documents.gov.lk timed out. (connect timeout=None)')': /view/acts/2021/10/22-2021_E.pdf\n",
      "WARNING:urllib3.connectionpool:Retrying (Retry(total=1, connect=None, read=None, redirect=None, status=None)) after connection broken by 'ConnectTimeoutError(<urllib3.connection.HTTPSConnection object at 0x7cec642d9150>, 'Connection to documents.gov.lk timed out. (connect timeout=None)')': /view/acts/2021/11/29-2021_E.pdf\n",
      "WARNING:urllib3.connectionpool:Retrying (Retry(total=1, connect=None, read=None, redirect=None, status=None)) after connection broken by 'ConnectTimeoutError(<urllib3.connection.HTTPSConnection object at 0x7cec64293bd0>, 'Connection to documents.gov.lk timed out. (connect timeout=None)')': /view/acts/2021/9/19-2021_E.pdf\n",
      "WARNING:urllib3.connectionpool:Retrying (Retry(total=1, connect=None, read=None, redirect=None, status=None)) after connection broken by 'ConnectTimeoutError(<urllib3.connection.HTTPSConnection object at 0x7cec6424e4d0>, 'Connection to documents.gov.lk timed out. (connect timeout=None)')': /view/acts/2021/8/16-2021_E.pdf\n"
     ]
    },
    {
     "name": "stdout",
     "output_type": "stream",
     "text": [
      "Downloaded: Appropriation (Amendment)_English.pdf\n",
      "Downloaded: Registration of Electors (Amendment)_English.pdf\n",
      "Downloaded: Termination of Employment of Workmen (Special Provisions) (Amendment)_English.pdf\n",
      "Downloaded: Employees Provident Fund (Amendment)_English.pdf\n",
      "Downloaded: Appropriation (Amendment)_Sinhala.pdf\n",
      "Downloaded: Registration of Electors (Amendment)_Sinhala.pdf\n",
      "Downloaded: Termination of Employment of Workmen (Special Provisions) (Amendment)_Sinhala.pdf\n",
      "Downloaded: Employees Provident Fund (Amendment)_Sinhala.pdf\n",
      "Downloaded: Securities and Exchange Commission of Sri Lanka_English.pdf\n",
      "Downloaded: Securities and Exchange Commission of Sri Lanka_Sinhala.pdf\n",
      "Downloaded: National Minimum Wage of Workers (Amendment)_English.pdf\n",
      "Downloaded: National Minimum Wage of Workers (Amendment)_Sinhala.pdf\n"
     ]
    },
    {
     "name": "stderr",
     "output_type": "stream",
     "text": [
      "WARNING:urllib3.connectionpool:Retrying (Retry(total=0, connect=None, read=None, redirect=None, status=None)) after connection broken by 'ConnectTimeoutError(<urllib3.connection.HTTPSConnection object at 0x7cec64285990>, 'Connection to documents.gov.lk timed out. (connect timeout=None)')': /view/acts/2021/5/10-2021_S.pdf\n"
     ]
    },
    {
     "name": "stdout",
     "output_type": "stream",
     "text": [
      "Downloaded: Inland Revenue (Amendment)_Sinhala.pdf\n"
     ]
    },
    {
     "name": "stderr",
     "output_type": "stream",
     "text": [
      "WARNING:urllib3.connectionpool:Retrying (Retry(total=0, connect=None, read=None, redirect=None, status=None)) after connection broken by 'ConnectTimeoutError(<urllib3.connection.HTTPSConnection object at 0x7cec64139390>, 'Connection to documents.gov.lk timed out. (connect timeout=None)')': /view/acts/2021/1/07-2021_E.pdf\n"
     ]
    },
    {
     "name": "stdout",
     "output_type": "stream",
     "text": [
      "Downloaded: Bail (Amendment)_English.pdf\n",
      "Downloaded: Bail (Amendment)_Sinhala.pdf\n",
      "Processing year: 2020\n",
      "Found 8 rows for year: 2020\n",
      "Processing 8 rows with 4 threads, chunk size: 2\n"
     ]
    },
    {
     "name": "stderr",
     "output_type": "stream",
     "text": [
      "WARNING:urllib3.connectionpool:Connection pool is full, discarding connection: localhost. Connection pool size: 1\n",
      "WARNING:urllib3.connectionpool:Connection pool is full, discarding connection: localhost. Connection pool size: 1\n",
      "WARNING:urllib3.connectionpool:Connection pool is full, discarding connection: localhost. Connection pool size: 1\n"
     ]
    },
    {
     "name": "stdout",
     "output_type": "stream",
     "text": [
      "Downloaded: Finance (Amendment)_English.pdf\n",
      "Downloaded: 20th Amendment to the Constitution (NEW)_English.pdf\n",
      "Downloaded: Appropriation_English.pdf\n",
      "Downloaded: Appropriation_English.pdf\n",
      "Downloaded: Finance (Amendment)_Sinhala.pdf\n",
      "Downloaded: 20th Amendment to the Constitution (NEW)_Sinhala.pdf\n",
      "Downloaded: Nation Building Tax (Amendment)_English.pdf\n",
      "Downloaded: Appropriation_Sinhala.pdf\n",
      "Downloaded: Economic Service Charge (Amendment)_English.pdf\n",
      "Downloaded: Appropriation_Sinhala.pdf\n",
      "Downloaded: ports and Airports Development Levy (Amendment)_English.pdf\n",
      "Downloaded: Nation Building Tax (Amendment)_Sinhala.pdf\n",
      "Downloaded: Economic Service Charge (Amendment)_Sinhala.pdf\n",
      "Downloaded: ports and Airports Development Levy (Amendment)_Sinhala.pdf\n",
      "Downloaded: Institute of Environmental Professionals, Sri Lanka (Incorporation)_English.pdf\n",
      "Downloaded: Institute of Environmental Professionals, Sri Lanka (Incorporation)_Sinhala.pdf\n",
      "Processing year: 2019\n",
      "Found 24 rows for year: 2019\n",
      "Processing 24 rows with 12 threads, chunk size: 2\n"
     ]
    },
    {
     "name": "stderr",
     "output_type": "stream",
     "text": [
      "WARNING:urllib3.connectionpool:Connection pool is full, discarding connection: localhost. Connection pool size: 1\n",
      "WARNING:urllib3.connectionpool:Connection pool is full, discarding connection: localhost. Connection pool size: 1\n",
      "WARNING:urllib3.connectionpool:Connection pool is full, discarding connection: localhost. Connection pool size: 1\n",
      "WARNING:urllib3.connectionpool:Connection pool is full, discarding connection: localhost. Connection pool size: 1\n",
      "WARNING:urllib3.connectionpool:Connection pool is full, discarding connection: localhost. Connection pool size: 1\n",
      "WARNING:urllib3.connectionpool:Connection pool is full, discarding connection: localhost. Connection pool size: 1\n",
      "WARNING:urllib3.connectionpool:Connection pool is full, discarding connection: localhost. Connection pool size: 1\n",
      "WARNING:urllib3.connectionpool:Connection pool is full, discarding connection: localhost. Connection pool size: 1\n",
      "WARNING:urllib3.connectionpool:Connection pool is full, discarding connection: localhost. Connection pool size: 1\n",
      "WARNING:urllib3.connectionpool:Connection pool is full, discarding connection: localhost. Connection pool size: 1\n",
      "WARNING:urllib3.connectionpool:Connection pool is full, discarding connection: localhost. Connection pool size: 1\n"
     ]
    },
    {
     "ename": "KeyboardInterrupt",
     "evalue": "",
     "output_type": "error",
     "traceback": [
      "\u001b[0;31m---------------------------------------------------------------------------\u001b[0m",
      "\u001b[0;31mKeyboardInterrupt\u001b[0m                         Traceback (most recent call last)",
      "\u001b[0;32m<ipython-input-60-d99348e95f90>\u001b[0m in \u001b[0;36m<cell line: 0>\u001b[0;34m()\u001b[0m\n\u001b[1;32m    180\u001b[0m \u001b[0;31m# Step 8: Run the scraper\u001b[0m\u001b[0;34m\u001b[0m\u001b[0;34m\u001b[0m\u001b[0m\n\u001b[1;32m    181\u001b[0m \u001b[0mwebsite_url\u001b[0m \u001b[0;34m=\u001b[0m \u001b[0;34m\"https://documents.gov.lk/view/acts/acts.html\"\u001b[0m  \u001b[0;31m# Replace with the actual URL\u001b[0m\u001b[0;34m\u001b[0m\u001b[0;34m\u001b[0m\u001b[0m\n\u001b[0;32m--> 182\u001b[0;31m \u001b[0mscrape_legal_acts\u001b[0m\u001b[0;34m(\u001b[0m\u001b[0mwebsite_url\u001b[0m\u001b[0;34m)\u001b[0m\u001b[0;34m\u001b[0m\u001b[0;34m\u001b[0m\u001b[0m\n\u001b[0m\u001b[1;32m    183\u001b[0m \u001b[0;34m\u001b[0m\u001b[0m\n\u001b[1;32m    184\u001b[0m \u001b[0;31m# Step 9: Close the WebDriver\u001b[0m\u001b[0;34m\u001b[0m\u001b[0;34m\u001b[0m\u001b[0m\n",
      "\u001b[0;32m<ipython-input-60-d99348e95f90>\u001b[0m in \u001b[0;36mscrape_legal_acts\u001b[0;34m(url)\u001b[0m\n\u001b[1;32m    146\u001b[0m \u001b[0;34m\u001b[0m\u001b[0m\n\u001b[1;32m    147\u001b[0m             \u001b[0;31m# Process each row in parallel\u001b[0m\u001b[0;34m\u001b[0m\u001b[0;34m\u001b[0m\u001b[0m\n\u001b[0;32m--> 148\u001b[0;31m             \u001b[0mprocess_rows_iterative\u001b[0m\u001b[0;34m(\u001b[0m\u001b[0mrows\u001b[0m\u001b[0;34m,\u001b[0m \u001b[0myear\u001b[0m\u001b[0;34m)\u001b[0m\u001b[0;34m\u001b[0m\u001b[0;34m\u001b[0m\u001b[0m\n\u001b[0m\u001b[1;32m    149\u001b[0m \u001b[0;34m\u001b[0m\u001b[0m\n\u001b[1;32m    150\u001b[0m             \u001b[0;31m# Return to the year selection page\u001b[0m\u001b[0;34m\u001b[0m\u001b[0;34m\u001b[0m\u001b[0m\n",
      "\u001b[0;32m<ipython-input-60-d99348e95f90>\u001b[0m in \u001b[0;36mprocess_rows_iterative\u001b[0;34m(rows, year, max_threads)\u001b[0m\n\u001b[1;32m    101\u001b[0m         \u001b[0mprint\u001b[0m\u001b[0;34m(\u001b[0m\u001b[0;34mf\"Processing {num_rows} rows with {num_threads} threads, chunk size: {chunk_size}\"\u001b[0m\u001b[0;34m)\u001b[0m\u001b[0;34m\u001b[0m\u001b[0;34m\u001b[0m\u001b[0m\n\u001b[1;32m    102\u001b[0m \u001b[0;34m\u001b[0m\u001b[0m\n\u001b[0;32m--> 103\u001b[0;31m         \u001b[0;32mwith\u001b[0m \u001b[0mThreadPoolExecutor\u001b[0m\u001b[0;34m(\u001b[0m\u001b[0mmax_workers\u001b[0m\u001b[0;34m=\u001b[0m\u001b[0mnum_threads\u001b[0m\u001b[0;34m)\u001b[0m \u001b[0;32mas\u001b[0m \u001b[0mexecutor\u001b[0m\u001b[0;34m:\u001b[0m\u001b[0;34m\u001b[0m\u001b[0;34m\u001b[0m\u001b[0m\n\u001b[0m\u001b[1;32m    104\u001b[0m             \u001b[0mfutures\u001b[0m \u001b[0;34m=\u001b[0m \u001b[0;34m[\u001b[0m\u001b[0mexecutor\u001b[0m\u001b[0;34m.\u001b[0m\u001b[0msubmit\u001b[0m\u001b[0;34m(\u001b[0m\u001b[0mprocess_row\u001b[0m\u001b[0;34m,\u001b[0m \u001b[0mrow\u001b[0m\u001b[0;34m,\u001b[0m \u001b[0myear\u001b[0m\u001b[0;34m)\u001b[0m \u001b[0;32mfor\u001b[0m \u001b[0mchunk\u001b[0m \u001b[0;32min\u001b[0m \u001b[0mrow_chunks\u001b[0m \u001b[0;32mfor\u001b[0m \u001b[0mrow\u001b[0m \u001b[0;32min\u001b[0m \u001b[0mchunk\u001b[0m\u001b[0;34m]\u001b[0m\u001b[0;34m\u001b[0m\u001b[0;34m\u001b[0m\u001b[0m\n\u001b[1;32m    105\u001b[0m \u001b[0;34m\u001b[0m\u001b[0m\n",
      "\u001b[0;32m/usr/lib/python3.11/concurrent/futures/_base.py\u001b[0m in \u001b[0;36m__exit__\u001b[0;34m(self, exc_type, exc_val, exc_tb)\u001b[0m\n\u001b[1;32m    645\u001b[0m \u001b[0;34m\u001b[0m\u001b[0m\n\u001b[1;32m    646\u001b[0m     \u001b[0;32mdef\u001b[0m \u001b[0m__exit__\u001b[0m\u001b[0;34m(\u001b[0m\u001b[0mself\u001b[0m\u001b[0;34m,\u001b[0m \u001b[0mexc_type\u001b[0m\u001b[0;34m,\u001b[0m \u001b[0mexc_val\u001b[0m\u001b[0;34m,\u001b[0m \u001b[0mexc_tb\u001b[0m\u001b[0;34m)\u001b[0m\u001b[0;34m:\u001b[0m\u001b[0;34m\u001b[0m\u001b[0;34m\u001b[0m\u001b[0m\n\u001b[0;32m--> 647\u001b[0;31m         \u001b[0mself\u001b[0m\u001b[0;34m.\u001b[0m\u001b[0mshutdown\u001b[0m\u001b[0;34m(\u001b[0m\u001b[0mwait\u001b[0m\u001b[0;34m=\u001b[0m\u001b[0;32mTrue\u001b[0m\u001b[0;34m)\u001b[0m\u001b[0;34m\u001b[0m\u001b[0;34m\u001b[0m\u001b[0m\n\u001b[0m\u001b[1;32m    648\u001b[0m         \u001b[0;32mreturn\u001b[0m \u001b[0;32mFalse\u001b[0m\u001b[0;34m\u001b[0m\u001b[0;34m\u001b[0m\u001b[0m\n\u001b[1;32m    649\u001b[0m \u001b[0;34m\u001b[0m\u001b[0m\n",
      "\u001b[0;32m/usr/lib/python3.11/concurrent/futures/thread.py\u001b[0m in \u001b[0;36mshutdown\u001b[0;34m(self, wait, cancel_futures)\u001b[0m\n\u001b[1;32m    233\u001b[0m         \u001b[0;32mif\u001b[0m \u001b[0mwait\u001b[0m\u001b[0;34m:\u001b[0m\u001b[0;34m\u001b[0m\u001b[0;34m\u001b[0m\u001b[0m\n\u001b[1;32m    234\u001b[0m             \u001b[0;32mfor\u001b[0m \u001b[0mt\u001b[0m \u001b[0;32min\u001b[0m \u001b[0mself\u001b[0m\u001b[0;34m.\u001b[0m\u001b[0m_threads\u001b[0m\u001b[0;34m:\u001b[0m\u001b[0;34m\u001b[0m\u001b[0;34m\u001b[0m\u001b[0m\n\u001b[0;32m--> 235\u001b[0;31m                 \u001b[0mt\u001b[0m\u001b[0;34m.\u001b[0m\u001b[0mjoin\u001b[0m\u001b[0;34m(\u001b[0m\u001b[0;34m)\u001b[0m\u001b[0;34m\u001b[0m\u001b[0;34m\u001b[0m\u001b[0m\n\u001b[0m\u001b[1;32m    236\u001b[0m     \u001b[0mshutdown\u001b[0m\u001b[0;34m.\u001b[0m\u001b[0m__doc__\u001b[0m \u001b[0;34m=\u001b[0m \u001b[0m_base\u001b[0m\u001b[0;34m.\u001b[0m\u001b[0mExecutor\u001b[0m\u001b[0;34m.\u001b[0m\u001b[0mshutdown\u001b[0m\u001b[0;34m.\u001b[0m\u001b[0m__doc__\u001b[0m\u001b[0;34m\u001b[0m\u001b[0;34m\u001b[0m\u001b[0m\n",
      "\u001b[0;32m/usr/lib/python3.11/threading.py\u001b[0m in \u001b[0;36mjoin\u001b[0;34m(self, timeout)\u001b[0m\n\u001b[1;32m   1117\u001b[0m \u001b[0;34m\u001b[0m\u001b[0m\n\u001b[1;32m   1118\u001b[0m         \u001b[0;32mif\u001b[0m \u001b[0mtimeout\u001b[0m \u001b[0;32mis\u001b[0m \u001b[0;32mNone\u001b[0m\u001b[0;34m:\u001b[0m\u001b[0;34m\u001b[0m\u001b[0;34m\u001b[0m\u001b[0m\n\u001b[0;32m-> 1119\u001b[0;31m             \u001b[0mself\u001b[0m\u001b[0;34m.\u001b[0m\u001b[0m_wait_for_tstate_lock\u001b[0m\u001b[0;34m(\u001b[0m\u001b[0;34m)\u001b[0m\u001b[0;34m\u001b[0m\u001b[0;34m\u001b[0m\u001b[0m\n\u001b[0m\u001b[1;32m   1120\u001b[0m         \u001b[0;32melse\u001b[0m\u001b[0;34m:\u001b[0m\u001b[0;34m\u001b[0m\u001b[0;34m\u001b[0m\u001b[0m\n\u001b[1;32m   1121\u001b[0m             \u001b[0;31m# the behavior of a negative timeout isn't documented, but\u001b[0m\u001b[0;34m\u001b[0m\u001b[0;34m\u001b[0m\u001b[0m\n",
      "\u001b[0;32m/usr/lib/python3.11/threading.py\u001b[0m in \u001b[0;36m_wait_for_tstate_lock\u001b[0;34m(self, block, timeout)\u001b[0m\n\u001b[1;32m   1137\u001b[0m \u001b[0;34m\u001b[0m\u001b[0m\n\u001b[1;32m   1138\u001b[0m         \u001b[0;32mtry\u001b[0m\u001b[0;34m:\u001b[0m\u001b[0;34m\u001b[0m\u001b[0;34m\u001b[0m\u001b[0m\n\u001b[0;32m-> 1139\u001b[0;31m             \u001b[0;32mif\u001b[0m \u001b[0mlock\u001b[0m\u001b[0;34m.\u001b[0m\u001b[0macquire\u001b[0m\u001b[0;34m(\u001b[0m\u001b[0mblock\u001b[0m\u001b[0;34m,\u001b[0m \u001b[0mtimeout\u001b[0m\u001b[0;34m)\u001b[0m\u001b[0;34m:\u001b[0m\u001b[0;34m\u001b[0m\u001b[0;34m\u001b[0m\u001b[0m\n\u001b[0m\u001b[1;32m   1140\u001b[0m                 \u001b[0mlock\u001b[0m\u001b[0;34m.\u001b[0m\u001b[0mrelease\u001b[0m\u001b[0;34m(\u001b[0m\u001b[0;34m)\u001b[0m\u001b[0;34m\u001b[0m\u001b[0;34m\u001b[0m\u001b[0m\n\u001b[1;32m   1141\u001b[0m                 \u001b[0mself\u001b[0m\u001b[0;34m.\u001b[0m\u001b[0m_stop\u001b[0m\u001b[0;34m(\u001b[0m\u001b[0;34m)\u001b[0m\u001b[0;34m\u001b[0m\u001b[0;34m\u001b[0m\u001b[0m\n",
      "\u001b[0;31mKeyboardInterrupt\u001b[0m: "
     ]
    }
   ],
   "source": [
    "# Step 1: Install required libraries\n",
    "# !apt-get update\n",
    "# !apt-get purge chromium-browser chromium-chromedriver -y\n",
    "# !apt-get autoremove -y\n",
    "# !wget https://dl.google.com/linux/direct/google-chrome-stable_current_amd64.deb\n",
    "# !dpkg -i google-chrome-stable_current_amd64.deb || apt-get -fy install\n",
    "# !pip install -U selenium webdriver-manager requests\n",
    "\n",
    "# Mount Google Drive\n",
    "from google.colab import drive\n",
    "drive.mount('/content/drive')\n",
    "\n",
    "# Clean output\n",
    "from IPython.display import clear_output\n",
    "clear_output()\n",
    "\n",
    "# Step 2: Import required libraries\n",
    "import os\n",
    "import time\n",
    "import shutil\n",
    "import logging\n",
    "import requests\n",
    "import math\n",
    "import requests\n",
    "from requests.adapters import HTTPAdapter\n",
    "from urllib3.util.retry import Retry\n",
    "from selenium import webdriver\n",
    "from selenium.webdriver.common.by import By\n",
    "from selenium.webdriver.support.ui import WebDriverWait\n",
    "from selenium.webdriver.support import expected_conditions as EC\n",
    "from selenium.webdriver.chrome.service import Service\n",
    "from webdriver_manager.chrome import ChromeDriverManager\n",
    "from concurrent.futures import ThreadPoolExecutor, as_completed\n",
    "\n",
    "# Step 4: Define download paths\n",
    "local_download_dir = \"/content/downloads\"\n",
    "drive_directory = \"/content/drive/MyDrive/FYP/legal_acts_raw\"  # Replace with your desired directory\n",
    "\n",
    "# Ensure directories exist\n",
    "os.makedirs(local_download_dir, exist_ok=True)\n",
    "os.makedirs(drive_directory, exist_ok=True)\n",
    "\n",
    "# Step 5: Set up Selenium WebDriver\n",
    "chrome_options = webdriver.ChromeOptions()\n",
    "prefs = {\n",
    "    \"download.default_directory\": local_download_dir,\n",
    "    \"download.prompt_for_download\": False,\n",
    "    \"download.directory_upgrade\": True,\n",
    "    \"safebrowsing.enabled\": True,\n",
    "}\n",
    "chrome_options.add_experimental_option(\"prefs\", prefs)\n",
    "chrome_options.add_argument(\"--headless\")  # Run in headless mode\n",
    "chrome_options.add_argument(\"--no-sandbox\")\n",
    "chrome_options.add_argument(\"--disable-gpu\")  # Disable GPU hardware acceleration\n",
    "chrome_options.add_argument(\"--window-size=1920x1080\")  # Use a fixed window size\n",
    "chrome_options.add_argument(\"--disable-dev-shm-usage\")\n",
    "\n",
    "# Initialize WebDriver\n",
    "service = Service(ChromeDriverManager().install())\n",
    "driver = webdriver.Chrome(service=service, options=chrome_options)\n",
    "\n",
    "# Create a session with a larger connection pool\n",
    "session = requests.Session()\n",
    "adapter = HTTPAdapter(pool_connections=100, pool_maxsize=100, max_retries=Retry(total=2))\n",
    "session.mount(\"http://\", adapter)\n",
    "session.mount(\"https://\", adapter)\n",
    "\n",
    "\n",
    "# Process each row separately (to be used in threading)\n",
    "def process_row(row, year):\n",
    "    try:\n",
    "        #Get Name\n",
    "        name = row.find_element(By.CSS_SELECTOR, \"td:nth-child(3)\").text.strip()\n",
    "\n",
    "        # Find download links inside <a> tags that contain buttons\n",
    "        english_link = row.find_element(By.XPATH, \".//a[button[contains(text(), 'English')]]\")\n",
    "        sinhala_link = row.find_element(By.XPATH, \".//a[button[contains(text(), 'Sinhala')]]\")\n",
    "\n",
    "        # Get the actual download URLs\n",
    "        english_url = english_link.get_attribute(\"href\") if english_link else None\n",
    "        sinhala_url = sinhala_link.get_attribute(\"href\") if sinhala_link else None\n",
    "\n",
    "        # Download files in parallel\n",
    "        if english_url:\n",
    "            download_file(english_url, f\"{name}_English.pdf\", year)\n",
    "        if sinhala_url:\n",
    "            download_file(sinhala_url, f\"{name}_Sinhala.pdf\", year)\n",
    "\n",
    "    except Exception as e:\n",
    "        print(f\"Error processing row for year {year}: {e}\")\n",
    "\n",
    "# iterative function to process row chunks\n",
    "def process_rows_iterative(rows, year, max_threads=20):\n",
    "    futures = []\n",
    "    while rows:\n",
    "        num_rows = len(rows)\n",
    "        num_threads = min(max_threads, max(1, num_rows // 2))\n",
    "        chunk_size = math.ceil(num_rows / num_threads)\n",
    "        row_chunks = [rows[i:i + chunk_size] for i in range(0, num_rows, chunk_size)]\n",
    "\n",
    "        print(f\"Processing {num_rows} rows with {num_threads} threads, chunk size: {chunk_size}\")\n",
    "\n",
    "        with ThreadPoolExecutor(max_workers=num_threads) as executor:\n",
    "            futures = [executor.submit(process_row, row, year) for chunk in row_chunks for row in chunk]\n",
    "\n",
    "        # Update remaining rows\n",
    "        rows = rows[chunk_size * num_threads:]\n",
    "\n",
    "    # Wait for all threads to complete before proceeding\n",
    "    for future in as_completed(futures):\n",
    "        try:\n",
    "            future.result()\n",
    "        except Exception as e:\n",
    "            print(f\"Error in thread: {e}\")\n",
    "\n",
    "\n",
    "\n",
    "# Step 6: Define the scraper function\n",
    "def scrape_legal_acts(url):\n",
    "    try:\n",
    "        driver.get(url)\n",
    "        time.sleep(3)\n",
    "        print(\"Browser Opened\")\n",
    "\n",
    "        # Find all year buttons\n",
    "        year_buttons = driver.find_elements(By.XPATH, \"//a[@class='btn btn-primary']\")\n",
    "        print(f\"Found {len(year_buttons)} year buttons\")\n",
    "\n",
    "        for i in range(len(year_buttons)):\n",
    "            button = driver.find_elements(By.XPATH, \"//a[@class='btn btn-primary']\")[i]\n",
    "            year = button.text.strip()\n",
    "            print(f\"Processing year: {year}\")\n",
    "\n",
    "            button.click()\n",
    "            time.sleep(3)\n",
    "\n",
    "            if not driver.find_elements(By.CSS_SELECTOR, \"table tbody tr\"):\n",
    "                print(f\"No data found for year: {year}\")\n",
    "                driver.back()\n",
    "                time.sleep(2)\n",
    "                continue\n",
    "\n",
    "            # Find all rows in the table\n",
    "            rows = driver.find_elements(By.CSS_SELECTOR, \"table tbody tr\")\n",
    "            print(f\"Found {len(rows)} rows for year: {year}\")\n",
    "\n",
    "            # Process each row in parallel\n",
    "            process_rows_iterative(rows, year)\n",
    "\n",
    "            # Return to the year selection page\n",
    "            driver.back()\n",
    "            time.sleep(2)\n",
    "\n",
    "    except Exception as e:\n",
    "        print(f\"Error during scraping: {e}\")\n",
    "\n",
    "\n",
    "# Step 7: Download files function\n",
    "def download_file(url, filename, year):\n",
    "    try:\n",
    "        response = session.get(url, stream=True)\n",
    "        if response.status_code == 200:\n",
    "            year_folder = os.path.join(drive_directory, year)\n",
    "            os.makedirs(year_folder, exist_ok=True)\n",
    "            filepath = os.path.join(year_folder, filename)\n",
    "\n",
    "            with open(filepath, \"wb\") as file:\n",
    "                for chunk in response.iter_content(chunk_size=1024):\n",
    "                    file.write(chunk)\n",
    "\n",
    "            print(f\"Downloaded: {filename}\")\n",
    "        else:\n",
    "            print(f\"Failed to download {filename}\")\n",
    "\n",
    "        response.close()\n",
    "\n",
    "    except Exception as e:\n",
    "        print(f\"Error downloading file {filename}: {e}\")\n",
    "\n",
    "# Step 8: Run the scraper\n",
    "website_url = \"https://documents.gov.lk/view/acts/acts.html\"  # Replace with the actual URL\n",
    "scrape_legal_acts(website_url)\n",
    "\n",
    "# Step 9: Close the WebDriver\n",
    "driver.quit()"
   ]
  },
  {
   "cell_type": "markdown",
   "metadata": {
    "id": "0YrqFizLAb2T"
   },
   "source": [
    "# **Preprocessing**"
   ]
  },
  {
   "cell_type": "code",
   "execution_count": 4,
   "metadata": {
    "colab": {
     "base_uri": "https://localhost:8080/"
    },
    "id": "7CelnKhaCiDt",
    "outputId": "e3fc0b7a-0a97-4bea-d8e3-caa0e32c589e"
   },
   "outputs": [
    {
     "name": "stderr",
     "output_type": "stream",
     "text": [
      "'wget' is not recognized as an internal or external command,\n",
      "operable program or batch file.\n"
     ]
    }
   ],
   "source": [
    "#@title Init\n",
    "\n",
    "# Install required packages and dependencies\n",
    "# !pip install PyPDF2 pdf2image pytesseract\n",
    "# !apt-get install -y poppler-utils\n",
    "# !apt-get install -y tesseract-ocr tesseract-ocr-sin tesseract-ocr-tam\n",
    "\n",
    "# !pip install fasttext\n",
    "# !pip install --upgrade googletrans==4.0.2\n",
    "!wget -O lid.176.bin https://dl.fbaipublicfiles.com/fasttext/supervised-models/lid.176.bin\n",
    "\n",
    "# #mount drive\n",
    "# from google.colab import drive\n",
    "# drive.mount('/content/drive')\n",
    "\n",
    "#init local\n",
    "# %pip install PyPDF2 pdf2image pytesseract\n",
    "# %apt-get install -y poppler-utils\n",
    "# %apt-get install -y tesseract-ocr tesseract-ocr-sin tesseract-ocr-tam\n",
    "\n",
    "# %pip install fasttext-wheel googletrans"
   ]
  },
  {
   "cell_type": "code",
   "execution_count": 6,
   "metadata": {
    "colab": {
     "base_uri": "https://localhost:8080/"
    },
    "id": "XgBIdhJPAie7",
    "outputId": "80d81f17-420e-46fa-ba02-147b0a1c0195"
   },
   "outputs": [
    {
     "name": "stdout",
     "output_type": "stream",
     "text": [
      "Text extraction yielded very little text for 1995\\Appropriation_Sinhala.pdf. Running OCR...\n",
      "Processed: Appropriation | Word Count: 9362\n",
      "ID: 637b0a27-b3f7-4c05-9ef4-de985780dc19\n",
      "Filename: Appropriation\n",
      "Primary Language: Sinhala\n",
      "Word Count: 9362\n",
      "Text Preview: 4\n",
      "\n",
      "Kl\n",
      "\n",
      "ප්‍රජාතාන්ත්‍රික සමාජවාදි ජනරජයේ\n",
      "පාර්ලිමේන්තුව\n",
      "\n",
      "1995 අංක 34 දරන\n",
      "විසරජන පනත\n",
      "\n",
      "ණ්‌ චුවේ නියමය පරිදි මුද්‍රණය කීරන ලදී.\n",
      "\n",
      "1096 දෙසැම්බර්‌ මස 20 චැනී දන ශ්‍රී ලංකා ප්‍රඡාතෘන' ත්‍රීක සමාජ්ණදී නරජණෙ\n",
      "ගැ\n",
      "--------------------------------------------------\n"
     ]
    }
   ],
   "source": [
    "import os\n",
    "import uuid\n",
    "from PyPDF2 import PdfReader\n",
    "from pdf2image import convert_from_path\n",
    "import pytesseract\n",
    "from concurrent.futures import ThreadPoolExecutor, as_completed\n",
    "\n",
    "def extract_text_from_pdf(pdf_path):\n",
    "    \"\"\"Attempts to extract text from a PDF using PyPDF2.\"\"\"\n",
    "    text = \"\"\n",
    "    try:\n",
    "        reader = PdfReader(pdf_path)\n",
    "        for page in reader.pages:\n",
    "            page_text = page.extract_text()\n",
    "            if page_text:\n",
    "                text += page_text + \"\\n\"\n",
    "    except Exception as e:\n",
    "        print(f\"Error extracting text from {pdf_path}: {e}\")\n",
    "    return text.strip()\n",
    "\n",
    "def ocr_pdf(pdf_path, lang=\"eng+sin\"):\n",
    "    \"\"\"Uses pdf2image to convert PDF pages to images and then applies OCR.\"\"\"\n",
    "    text = \"\"\n",
    "    try:\n",
    "        images = convert_from_path(pdf_path)\n",
    "        for img in images:\n",
    "            page_text = pytesseract.image_to_string(img, lang=lang)\n",
    "            text += page_text + \"\\n\"\n",
    "    except Exception as e:\n",
    "        print(f\"Error OCR processing {pdf_path}: {e}\")\n",
    "    return text.strip()\n",
    "\n",
    "def process_pdf(pdf_path, lang=\"eng+sin\", text_threshold=10):\n",
    "    \"\"\"Attempts to extract text from PDF and falls back to OCR if needed.\"\"\"\n",
    "    text = extract_text_from_pdf(pdf_path)\n",
    "    if len(text) < text_threshold:\n",
    "        print(f\"Text extraction yielded very little text for {pdf_path.split('/').pop()}. Running OCR...\")\n",
    "        text = ocr_pdf(pdf_path, lang=lang)\n",
    "    return text\n",
    "\n",
    "def process_pdf_file(pdf_path, lang=\"eng+sin\"):\n",
    "    \"\"\"Processes a single PDF file and returns its data as a dictionary.\"\"\"\n",
    "    unique_id = str(uuid.uuid4())\n",
    "    filename = os.path.basename(pdf_path)\n",
    "    text = process_pdf(pdf_path, lang=lang)\n",
    "    \n",
    "    # Assuming language is part of the filename\n",
    "    primary_lang = filename.split('_')[1].split('.')[0]  \n",
    "\n",
    "    return {\n",
    "        \"id\": unique_id,\n",
    "        \"filename\": filename.split('_')[0],\n",
    "        \"primaryLang\": primary_lang,\n",
    "        \"text\": text,\n",
    "        \"wordCount\": len(text.split()),\n",
    "    }\n",
    "\n",
    "def process_folder(folder_path, lang=\"eng+sin\", max_workers=8):\n",
    "    \"\"\"Iterates over all PDF files in a folder and processes them.\"\"\"\n",
    "    results = []\n",
    "    pdf_files = [os.path.join(folder_path, filename) for filename in os.listdir(folder_path) if filename.lower().endswith(\".pdf\")]\n",
    "\n",
    "    with ThreadPoolExecutor(max_workers=max_workers) as executor:\n",
    "        futures = {executor.submit(process_pdf_file, pdf_path, lang): pdf_path for pdf_path in pdf_files}\n",
    "\n",
    "        for future in as_completed(futures):\n",
    "            pdf_path = futures[future]\n",
    "            try:\n",
    "                result = future.result()  # Get result of the future\n",
    "                results.append(result)\n",
    "                print(f\"Processed: {result['filename']} | Word Count: {result['wordCount']}\")  # Change 'length' to 'wordCount'\n",
    "            except Exception as e:\n",
    "                print(f\"Error processing {pdf_path}: {e}\")\n",
    "\n",
    "    return results\n",
    "\n",
    "# -----------------------------\n",
    "# Usage Example\n",
    "# -----------------------------\n",
    "folder_path = \"downloads/1995\"  # Update this path as needed\n",
    "\n",
    "# Process all PDFs in the folder\n",
    "pdf_data = process_folder(folder_path)\n",
    "\n",
    "# Now, pdf_data is a list of dictionaries containing 'id', 'filename', and 'text'\n",
    "for data in pdf_data:\n",
    "    print(f\"ID: {data['id']}\\nFilename: {data['filename']}\\nPrimary Language: {data['primaryLang']}\\nWord Count: {data['wordCount']}\\nText Preview: {data['text'][:200]}\\n{'-'*50}\")\n"
   ]
  },
  {
   "cell_type": "code",
   "execution_count": 11,
   "metadata": {
    "id": "AdpHsFJoM82x"
   },
   "outputs": [
    {
     "name": "stderr",
     "output_type": "stream",
     "text": [
      "Task exception was never retrieved\n",
      "future: <Task finished name='Task-9' coro=<main() done, defined at C:\\Users\\cheth\\AppData\\Local\\Temp\\ipykernel_7764\\1172286582.py:61> exception=ValueError('Unable to avoid copy while creating an array as requested.\\nIf using `np.array(obj, copy=False)` replace it with `np.asarray(obj)` to allow a copy when needed (no behavior change in NumPy 1.x).\\nFor more details, see https://numpy.org/devdocs/numpy_2_0_migration_guide.html#adapting-to-changes-in-the-copy-keyword.')>\n",
      "Traceback (most recent call last):\n",
      "  File \"C:\\Program Files\\WindowsApps\\PythonSoftwareFoundation.Python.3.12_3.12.2544.0_x64__qbz5n2kfra8p0\\Lib\\asyncio\\tasks.py\", line 314, in __step_run_and_handle_result\n",
      "    result = coro.send(None)\n",
      "             ^^^^^^^^^^^^^^^\n",
      "  File \"C:\\Users\\cheth\\AppData\\Local\\Temp\\ipykernel_7764\\1172286582.py\", line 62, in main\n",
      "    await process_documents(pdf_data)\n",
      "  File \"C:\\Users\\cheth\\AppData\\Local\\Temp\\ipykernel_7764\\1172286582.py\", line 53, in process_documents\n",
      "    translated_text = await translate_if_needed(original_text)\n",
      "                      ^^^^^^^^^^^^^^^^^^^^^^^^^^^^^^^^^^^^^^^^\n",
      "  File \"C:\\Users\\cheth\\AppData\\Local\\Temp\\ipykernel_7764\\1172286582.py\", line 35, in translate_if_needed\n",
      "    if await detect_language_fasttext(text):\n",
      "       ^^^^^^^^^^^^^^^^^^^^^^^^^^^^^^^^^^^^\n",
      "  File \"C:\\Users\\cheth\\AppData\\Local\\Temp\\ipykernel_7764\\1172286582.py\", line 25, in detect_language_fasttext\n",
      "    prediction = model.predict(chunk)\n",
      "                 ^^^^^^^^^^^^^^^^^^^^\n",
      "  File \"C:\\Users\\cheth\\AppData\\Local\\Packages\\PythonSoftwareFoundation.Python.3.12_qbz5n2kfra8p0\\LocalCache\\local-packages\\Python312\\site-packages\\fasttext\\FastText.py\", line 228, in predict\n",
      "    return labels, np.array(probs, copy=False)\n",
      "                   ^^^^^^^^^^^^^^^^^^^^^^^^^^^\n",
      "ValueError: Unable to avoid copy while creating an array as requested.\n",
      "If using `np.array(obj, copy=False)` replace it with `np.asarray(obj)` to allow a copy when needed (no behavior change in NumPy 1.x).\n",
      "For more details, see https://numpy.org/devdocs/numpy_2_0_migration_guide.html#adapting-to-changes-in-the-copy-keyword.\n"
     ]
    },
    {
     "name": "stdout",
     "output_type": "stream",
     "text": [
      "Checking document: Appropriation\n"
     ]
    },
    {
     "ename": "ValueError",
     "evalue": "Unable to avoid copy while creating an array as requested.\nIf using `np.array(obj, copy=False)` replace it with `np.asarray(obj)` to allow a copy when needed (no behavior change in NumPy 1.x).\nFor more details, see https://numpy.org/devdocs/numpy_2_0_migration_guide.html#adapting-to-changes-in-the-copy-keyword.",
     "output_type": "error",
     "traceback": [
      "\u001b[1;31m---------------------------------------------------------------------------\u001b[0m",
      "\u001b[1;31mValueError\u001b[0m                                Traceback (most recent call last)",
      "Cell \u001b[1;32mIn[11], line 75\u001b[0m\n\u001b[0;32m     72\u001b[0m \u001b[38;5;28;01mif\u001b[39;00m loop\u001b[38;5;241m.\u001b[39mis_running():\n\u001b[0;32m     73\u001b[0m     \u001b[38;5;66;03m# For environments like Jupyter Notebook\u001b[39;00m\n\u001b[0;32m     74\u001b[0m     task \u001b[38;5;241m=\u001b[39m asyncio\u001b[38;5;241m.\u001b[39mcreate_task(main())\n\u001b[1;32m---> 75\u001b[0m     \u001b[38;5;28;01mawait\u001b[39;00m task  \u001b[38;5;66;03m# Wait for completion of the task\u001b[39;00m\n\u001b[0;32m     76\u001b[0m \u001b[38;5;28;01melse\u001b[39;00m:\n\u001b[0;32m     77\u001b[0m     loop\u001b[38;5;241m.\u001b[39mrun_until_complete(main())\n",
      "File \u001b[1;32mC:\\Program Files\\WindowsApps\\PythonSoftwareFoundation.Python.3.12_3.12.2544.0_x64__qbz5n2kfra8p0\\Lib\\asyncio\\futures.py:289\u001b[0m, in \u001b[0;36mFuture.__await__\u001b[1;34m(self)\u001b[0m\n\u001b[0;32m    287\u001b[0m \u001b[38;5;28;01mif\u001b[39;00m \u001b[38;5;129;01mnot\u001b[39;00m \u001b[38;5;28mself\u001b[39m\u001b[38;5;241m.\u001b[39mdone():\n\u001b[0;32m    288\u001b[0m     \u001b[38;5;28mself\u001b[39m\u001b[38;5;241m.\u001b[39m_asyncio_future_blocking \u001b[38;5;241m=\u001b[39m \u001b[38;5;28;01mTrue\u001b[39;00m\n\u001b[1;32m--> 289\u001b[0m     \u001b[38;5;28;01myield\u001b[39;00m \u001b[38;5;28mself\u001b[39m  \u001b[38;5;66;03m# This tells Task to wait for completion.\u001b[39;00m\n\u001b[0;32m    290\u001b[0m \u001b[38;5;28;01mif\u001b[39;00m \u001b[38;5;129;01mnot\u001b[39;00m \u001b[38;5;28mself\u001b[39m\u001b[38;5;241m.\u001b[39mdone():\n\u001b[0;32m    291\u001b[0m     \u001b[38;5;28;01mraise\u001b[39;00m \u001b[38;5;167;01mRuntimeError\u001b[39;00m(\u001b[38;5;124m\"\u001b[39m\u001b[38;5;124mawait wasn\u001b[39m\u001b[38;5;124m'\u001b[39m\u001b[38;5;124mt used with future\u001b[39m\u001b[38;5;124m\"\u001b[39m)\n",
      "File \u001b[1;32mC:\\Program Files\\WindowsApps\\PythonSoftwareFoundation.Python.3.12_3.12.2544.0_x64__qbz5n2kfra8p0\\Lib\\asyncio\\tasks.py:385\u001b[0m, in \u001b[0;36mTask.__wakeup\u001b[1;34m(self, future)\u001b[0m\n\u001b[0;32m    383\u001b[0m \u001b[38;5;28;01mdef\u001b[39;00m\u001b[38;5;250m \u001b[39m\u001b[38;5;21m__wakeup\u001b[39m(\u001b[38;5;28mself\u001b[39m, future):\n\u001b[0;32m    384\u001b[0m     \u001b[38;5;28;01mtry\u001b[39;00m:\n\u001b[1;32m--> 385\u001b[0m         \u001b[43mfuture\u001b[49m\u001b[38;5;241;43m.\u001b[39;49m\u001b[43mresult\u001b[49m\u001b[43m(\u001b[49m\u001b[43m)\u001b[49m\n\u001b[0;32m    386\u001b[0m     \u001b[38;5;28;01mexcept\u001b[39;00m \u001b[38;5;167;01mBaseException\u001b[39;00m \u001b[38;5;28;01mas\u001b[39;00m exc:\n\u001b[0;32m    387\u001b[0m         \u001b[38;5;66;03m# This may also be a cancellation.\u001b[39;00m\n\u001b[0;32m    388\u001b[0m         \u001b[38;5;28mself\u001b[39m\u001b[38;5;241m.\u001b[39m__step(exc)\n",
      "File \u001b[1;32mC:\\Program Files\\WindowsApps\\PythonSoftwareFoundation.Python.3.12_3.12.2544.0_x64__qbz5n2kfra8p0\\Lib\\asyncio\\futures.py:202\u001b[0m, in \u001b[0;36mFuture.result\u001b[1;34m(self)\u001b[0m\n\u001b[0;32m    200\u001b[0m \u001b[38;5;28mself\u001b[39m\u001b[38;5;241m.\u001b[39m__log_traceback \u001b[38;5;241m=\u001b[39m \u001b[38;5;28;01mFalse\u001b[39;00m\n\u001b[0;32m    201\u001b[0m \u001b[38;5;28;01mif\u001b[39;00m \u001b[38;5;28mself\u001b[39m\u001b[38;5;241m.\u001b[39m_exception \u001b[38;5;129;01mis\u001b[39;00m \u001b[38;5;129;01mnot\u001b[39;00m \u001b[38;5;28;01mNone\u001b[39;00m:\n\u001b[1;32m--> 202\u001b[0m     \u001b[38;5;28;01mraise\u001b[39;00m \u001b[38;5;28mself\u001b[39m\u001b[38;5;241m.\u001b[39m_exception\u001b[38;5;241m.\u001b[39mwith_traceback(\u001b[38;5;28mself\u001b[39m\u001b[38;5;241m.\u001b[39m_exception_tb)\n\u001b[0;32m    203\u001b[0m \u001b[38;5;28;01mreturn\u001b[39;00m \u001b[38;5;28mself\u001b[39m\u001b[38;5;241m.\u001b[39m_result\n",
      "File \u001b[1;32mC:\\Program Files\\WindowsApps\\PythonSoftwareFoundation.Python.3.12_3.12.2544.0_x64__qbz5n2kfra8p0\\Lib\\asyncio\\tasks.py:314\u001b[0m, in \u001b[0;36mTask.__step_run_and_handle_result\u001b[1;34m(***failed resolving arguments***)\u001b[0m\n\u001b[0;32m    310\u001b[0m \u001b[38;5;28;01mtry\u001b[39;00m:\n\u001b[0;32m    311\u001b[0m     \u001b[38;5;28;01mif\u001b[39;00m exc \u001b[38;5;129;01mis\u001b[39;00m \u001b[38;5;28;01mNone\u001b[39;00m:\n\u001b[0;32m    312\u001b[0m         \u001b[38;5;66;03m# We use the `send` method directly, because coroutines\u001b[39;00m\n\u001b[0;32m    313\u001b[0m         \u001b[38;5;66;03m# don't have `__iter__` and `__next__` methods.\u001b[39;00m\n\u001b[1;32m--> 314\u001b[0m         result \u001b[38;5;241m=\u001b[39m \u001b[43mcoro\u001b[49m\u001b[38;5;241;43m.\u001b[39;49m\u001b[43msend\u001b[49m\u001b[43m(\u001b[49m\u001b[38;5;28;43;01mNone\u001b[39;49;00m\u001b[43m)\u001b[49m\n\u001b[0;32m    315\u001b[0m     \u001b[38;5;28;01melse\u001b[39;00m:\n\u001b[0;32m    316\u001b[0m         result \u001b[38;5;241m=\u001b[39m coro\u001b[38;5;241m.\u001b[39mthrow(exc)\n",
      "Cell \u001b[1;32mIn[11], line 62\u001b[0m, in \u001b[0;36mmain\u001b[1;34m()\u001b[0m\n\u001b[0;32m     61\u001b[0m \u001b[38;5;28;01masync\u001b[39;00m \u001b[38;5;28;01mdef\u001b[39;00m\u001b[38;5;250m \u001b[39m\u001b[38;5;21mmain\u001b[39m():\n\u001b[1;32m---> 62\u001b[0m     \u001b[38;5;28;01mawait\u001b[39;00m process_documents(pdf_data)\n",
      "Cell \u001b[1;32mIn[11], line 53\u001b[0m, in \u001b[0;36mprocess_documents\u001b[1;34m(pdf_data)\u001b[0m\n\u001b[0;32m     51\u001b[0m     original_text \u001b[38;5;241m=\u001b[39m doc\u001b[38;5;241m.\u001b[39mget(\u001b[38;5;124m\"\u001b[39m\u001b[38;5;124mtext\u001b[39m\u001b[38;5;124m\"\u001b[39m, \u001b[38;5;124m\"\u001b[39m\u001b[38;5;124m\"\u001b[39m)\n\u001b[0;32m     52\u001b[0m     \u001b[38;5;28mprint\u001b[39m(\u001b[38;5;124mf\u001b[39m\u001b[38;5;124m\"\u001b[39m\u001b[38;5;124mChecking document: \u001b[39m\u001b[38;5;132;01m{\u001b[39;00mdoc[\u001b[38;5;124m'\u001b[39m\u001b[38;5;124mfilename\u001b[39m\u001b[38;5;124m'\u001b[39m]\u001b[38;5;132;01m}\u001b[39;00m\u001b[38;5;124m\"\u001b[39m)\n\u001b[1;32m---> 53\u001b[0m     translated_text \u001b[38;5;241m=\u001b[39m \u001b[38;5;28;01mawait\u001b[39;00m translate_if_needed(original_text)\n\u001b[0;32m     54\u001b[0m     doc[\u001b[38;5;124m\"\u001b[39m\u001b[38;5;124mtext\u001b[39m\u001b[38;5;124m\"\u001b[39m] \u001b[38;5;241m=\u001b[39m translated_text\n\u001b[0;32m     56\u001b[0m \u001b[38;5;66;03m# Print a preview of the updated text\u001b[39;00m\n",
      "Cell \u001b[1;32mIn[11], line 35\u001b[0m, in \u001b[0;36mtranslate_if_needed\u001b[1;34m(text)\u001b[0m\n\u001b[0;32m     33\u001b[0m \u001b[38;5;28;01masync\u001b[39;00m \u001b[38;5;28;01mdef\u001b[39;00m\u001b[38;5;250m \u001b[39m\u001b[38;5;21mtranslate_if_needed\u001b[39m(text):\n\u001b[0;32m     34\u001b[0m \u001b[38;5;250m    \u001b[39m\u001b[38;5;124;03m\"\"\"Translates the whole text to English asynchronously if needed.\"\"\"\u001b[39;00m\n\u001b[1;32m---> 35\u001b[0m     \u001b[38;5;28;01mif\u001b[39;00m \u001b[38;5;28;01mawait\u001b[39;00m detect_language_fasttext(text):\n\u001b[0;32m     36\u001b[0m         \u001b[38;5;28;01mtry\u001b[39;00m:\n\u001b[0;32m     37\u001b[0m             \u001b[38;5;66;03m# Run the synchronous translator.translate call in a separate thread\u001b[39;00m\n\u001b[0;32m     38\u001b[0m             loop \u001b[38;5;241m=\u001b[39m asyncio\u001b[38;5;241m.\u001b[39mget_event_loop()\n",
      "Cell \u001b[1;32mIn[11], line 25\u001b[0m, in \u001b[0;36mdetect_language_fasttext\u001b[1;34m(text, word_threshold)\u001b[0m\n\u001b[0;32m     23\u001b[0m \u001b[38;5;28;01mfor\u001b[39;00m i \u001b[38;5;129;01min\u001b[39;00m \u001b[38;5;28mrange\u001b[39m(num_chunks):\n\u001b[0;32m     24\u001b[0m     chunk \u001b[38;5;241m=\u001b[39m \u001b[38;5;124m\"\u001b[39m\u001b[38;5;124m \u001b[39m\u001b[38;5;124m\"\u001b[39m\u001b[38;5;241m.\u001b[39mjoin(words[i \u001b[38;5;241m*\u001b[39m word_threshold:(i \u001b[38;5;241m+\u001b[39m \u001b[38;5;241m1\u001b[39m) \u001b[38;5;241m*\u001b[39m word_threshold])\n\u001b[1;32m---> 25\u001b[0m     prediction \u001b[38;5;241m=\u001b[39m \u001b[43mmodel\u001b[49m\u001b[38;5;241;43m.\u001b[39;49m\u001b[43mpredict\u001b[49m\u001b[43m(\u001b[49m\u001b[43mchunk\u001b[49m\u001b[43m)\u001b[49m\n\u001b[0;32m     26\u001b[0m     detected_lang \u001b[38;5;241m=\u001b[39m prediction[\u001b[38;5;241m0\u001b[39m][\u001b[38;5;241m0\u001b[39m]\u001b[38;5;241m.\u001b[39mreplace(\u001b[38;5;124m\"\u001b[39m\u001b[38;5;124m__label__\u001b[39m\u001b[38;5;124m\"\u001b[39m, \u001b[38;5;124m\"\u001b[39m\u001b[38;5;124m\"\u001b[39m)\n\u001b[0;32m     27\u001b[0m     \u001b[38;5;28;01mif\u001b[39;00m detected_lang \u001b[38;5;241m!=\u001b[39m \u001b[38;5;124m\"\u001b[39m\u001b[38;5;124men\u001b[39m\u001b[38;5;124m\"\u001b[39m:\n",
      "File \u001b[1;32m~\\AppData\\Local\\Packages\\PythonSoftwareFoundation.Python.3.12_qbz5n2kfra8p0\\LocalCache\\local-packages\\Python312\\site-packages\\fasttext\\FastText.py:228\u001b[0m, in \u001b[0;36m_FastText.predict\u001b[1;34m(self, text, k, threshold, on_unicode_error)\u001b[0m\n\u001b[0;32m    225\u001b[0m \u001b[38;5;28;01melse\u001b[39;00m:\n\u001b[0;32m    226\u001b[0m     probs, labels \u001b[38;5;241m=\u001b[39m ([], ())\n\u001b[1;32m--> 228\u001b[0m \u001b[38;5;28;01mreturn\u001b[39;00m labels, \u001b[43mnp\u001b[49m\u001b[38;5;241;43m.\u001b[39;49m\u001b[43marray\u001b[49m\u001b[43m(\u001b[49m\u001b[43mprobs\u001b[49m\u001b[43m,\u001b[49m\u001b[43m \u001b[49m\u001b[43mcopy\u001b[49m\u001b[38;5;241;43m=\u001b[39;49m\u001b[38;5;28;43;01mFalse\u001b[39;49;00m\u001b[43m)\u001b[49m\n",
      "\u001b[1;31mValueError\u001b[0m: Unable to avoid copy while creating an array as requested.\nIf using `np.array(obj, copy=False)` replace it with `np.asarray(obj)` to allow a copy when needed (no behavior change in NumPy 1.x).\nFor more details, see https://numpy.org/devdocs/numpy_2_0_migration_guide.html#adapting-to-changes-in-the-copy-keyword."
     ]
    }
   ],
   "source": [
    "#@title Translation\n",
    "\n",
    "import fasttext\n",
    "import asyncio\n",
    "from googletrans import Translator\n",
    "import nest_asyncio  # For environments like Jupyter notebooks\n",
    "\n",
    "# Apply nest_asyncio to allow nested event loops\n",
    "nest_asyncio.apply()\n",
    "\n",
    "# Load FastText model\n",
    "model = fasttext.load_model(\"downloads/lid.176.bin\")\n",
    "\n",
    "# Initialize Google Translate API\n",
    "translator = Translator()\n",
    "\n",
    "async def detect_language_fasttext(text, word_threshold=300):\n",
    "    \"\"\"Detects if the text contains non-English content.\"\"\"\n",
    "    words = text.split()\n",
    "    total_words = len(words)\n",
    "    num_chunks = max(1, total_words // word_threshold)\n",
    "\n",
    "    for i in range(num_chunks):\n",
    "        chunk = \" \".join(words[i * word_threshold:(i + 1) * word_threshold])\n",
    "        prediction = model.predict(chunk)\n",
    "        detected_lang = prediction[0][0].replace(\"__label__\", \"\")\n",
    "        if detected_lang != \"en\":\n",
    "            print(\"Needs Translation\")\n",
    "            return True  # Indicates that translation is needed\n",
    "\n",
    "    return False  # The text is already in English\n",
    "\n",
    "async def translate_if_needed(text):\n",
    "    \"\"\"Translates the whole text to English asynchronously if needed.\"\"\"\n",
    "    if await detect_language_fasttext(text):\n",
    "        try:\n",
    "            # Run the synchronous translator.translate call in a separate thread\n",
    "            loop = asyncio.get_event_loop()\n",
    "            translation = await loop.run_in_executor(None, translator.translate, text, 'en')\n",
    "            tr = await translation\n",
    "            return tr.text\n",
    "        except Exception as e:\n",
    "            print(\"Translation error: \" + str(e))\n",
    "            return text  # Return the original text if an error occurs\n",
    "    else:\n",
    "        return text  # No translation needed\n",
    "\n",
    "async def process_documents(pdf_data):\n",
    "    \"\"\"Processes documents asynchronously.\"\"\"\n",
    "    for doc in pdf_data:\n",
    "        original_text = doc.get(\"text\", \"\")\n",
    "        print(f\"Checking document: {doc['filename']}\")\n",
    "        translated_text = await translate_if_needed(original_text)\n",
    "        doc[\"text\"] = translated_text\n",
    "\n",
    "    # Print a preview of the updated text\n",
    "    for doc in pdf_data:\n",
    "        print(f\"ID: {doc['id']}\\nFilename: {doc['filename']}\\nText Preview: {doc['text'][:200]}\\n{'-'*50}\\n\")\n",
    "\n",
    "# Main function to run process_documents\n",
    "async def main():\n",
    "    await process_documents(pdf_data)\n",
    "\n",
    "# Run the main function in an environment with an existing event loop\n",
    "try:\n",
    "    loop = asyncio.get_running_loop()  # Get the current running loop\n",
    "except RuntimeError:  # No running event loop, create a new one\n",
    "    loop = asyncio.new_event_loop()\n",
    "    asyncio.set_event_loop(loop)\n",
    "\n",
    "# Await the main function (ensuring all tasks finish)\n",
    "if loop.is_running():\n",
    "    # For environments like Jupyter Notebook\n",
    "    task = asyncio.create_task(main())\n",
    "    await task  # Wait for completion of the task\n",
    "else:\n",
    "    loop.run_until_complete(main())\n"
   ]
  }
 ],
 "metadata": {
  "accelerator": "GPU",
  "colab": {
   "cell_execution_strategy": "setup",
   "gpuType": "T4",
   "include_colab_link": true,
   "provenance": []
  },
  "kernelspec": {
   "display_name": "Python 3",
   "name": "python3"
  },
  "language_info": {
   "codemirror_mode": {
    "name": "ipython",
    "version": 3
   },
   "file_extension": ".py",
   "mimetype": "text/x-python",
   "name": "python",
   "nbconvert_exporter": "python",
   "pygments_lexer": "ipython3",
   "version": "3.12.9"
  }
 },
 "nbformat": 4,
 "nbformat_minor": 0
}
