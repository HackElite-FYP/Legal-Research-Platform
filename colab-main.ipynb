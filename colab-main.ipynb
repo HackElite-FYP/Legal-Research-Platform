{
 "cells": [
  {
   "cell_type": "markdown",
   "metadata": {
    "colab_type": "text",
    "id": "view-in-github"
   },
   "source": [
    "<a href=\"https://colab.research.google.com/github/HackElite-FYP/Legal-Research-Platform-Core/blob/main/colab-main.ipynb\" target=\"_parent\"><img src=\"https://colab.research.google.com/assets/colab-badge.svg\" alt=\"Open In Colab\"/></a>"
   ]
  },
  {
   "cell_type": "markdown",
   "metadata": {
    "id": "dfnt-3pHg1KK"
   },
   "source": [
    "# **GitHub Commands**"
   ]
  },
  {
   "cell_type": "code",
   "execution_count": 4,
   "metadata": {
    "colab": {
     "base_uri": "https://localhost:8080/"
    },
    "id": "8ptD1MHrJvUC",
    "outputId": "e87c214a-8899-4344-ac76-b38983e8ef15"
   },
   "outputs": [],
   "source": [
    "# @title GitHub Init\n",
    "# from google.colab import userdata\n",
    "\n",
    "# GH_UNAME = userdata.get('GH_UNAME')\n",
    "# GH_APIKEY = userdata.get('GH_APIKEY')\n",
    "# GH_EMAIL = userdata.get('GH_EMAIL')\n",
    "PRIMARY_REPO_NAME = 'Legal-Research-Platform'\n",
    "LOCAL_REPO_DIR = '/content/drive/MyDrive/FYP/GitHub/Legal-Research-Platform'\n",
    "\n",
    "# !git config --global user.name {GH_UNAME}\n",
    "# !git config --global user.email {GH_EMAIL}\n",
    "\n",
    "# %cd {LOCAL_REPO_DIR}"
   ]
  },
  {
   "cell_type": "code",
   "execution_count": null,
   "metadata": {
    "cellView": "form",
    "colab": {
     "base_uri": "https://localhost:8080/"
    },
    "id": "Un2Cou8UUAW5",
    "outputId": "81b70c1a-7b52-4225-a622-d59695cc8aae"
   },
   "outputs": [
    {
     "name": "stdout",
     "output_type": "stream",
     "text": [
      "Already up to date.\n"
     ]
    }
   ],
   "source": [
    "# @title Git <-\n",
    "!git fetch\n",
    "\n",
    "!git pull"
   ]
  },
  {
   "cell_type": "code",
   "execution_count": 16,
   "metadata": {
    "colab": {
     "base_uri": "https://localhost:8080/"
    },
    "id": "YW1VIDAkdnoK",
    "outputId": "54fa97ba-d1e5-4e7a-dab3-474bad2ffba3"
   },
   "outputs": [
    {
     "name": "stdout",
     "output_type": "stream",
     "text": [
      "fatal: could not read Username for 'https://github.com': No such device or address\n"
     ]
    }
   ],
   "source": [
    "# @title Git ->\n",
    "# !git add .\n",
    "\n",
    "# !git status\n",
    "\n",
    "# !git commit -m 'updated layout'\n",
    "\n",
    "!git push"
   ]
  },
  {
   "cell_type": "markdown",
   "metadata": {
    "id": "N86tKpOPg-Qa"
   },
   "source": [
    "# **Scripts**"
   ]
  },
  {
   "cell_type": "code",
   "execution_count": 1,
   "metadata": {
    "id": "RgxWOK9QiD4y"
   },
   "outputs": [
    {
     "name": "stdout",
     "output_type": "stream",
     "text": [
      "hello\n"
     ]
    }
   ],
   "source": [
    "print('hello')"
   ]
  }
 ],
 "metadata": {
  "accelerator": "TPU",
  "colab": {
   "authorship_tag": "ABX9TyOfO8gOT2pJw3JUmJwyIR60",
   "cell_execution_strategy": "setup",
   "gpuType": "V28",
   "include_colab_link": true,
   "mount_file_id": "https://github.com/HackElite-FYP/Legal-Research-Platform-Core/blob/main/colab-main.ipynb",
   "provenance": []
  },
  "kernelspec": {
   "display_name": "Python 3",
   "name": "python3"
  },
  "language_info": {
   "codemirror_mode": {
    "name": "ipython",
    "version": 3
   },
   "file_extension": ".py",
   "mimetype": "text/x-python",
   "name": "python",
   "nbconvert_exporter": "python",
   "pygments_lexer": "ipython3",
   "version": "3.12.9"
  }
 },
 "nbformat": 4,
 "nbformat_minor": 0
}
