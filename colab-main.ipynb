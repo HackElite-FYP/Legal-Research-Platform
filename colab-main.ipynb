{
  "cells": [
    {
      "cell_type": "markdown",
      "metadata": {
        "id": "view-in-github",
        "colab_type": "text"
      },
      "source": [
        "<a href=\"https://colab.research.google.com/github/HackElite-FYP/Legal-Research-Platform-Core/blob/main/colab-main.ipynb\" target=\"_parent\"><img src=\"https://colab.research.google.com/assets/colab-badge.svg\" alt=\"Open In Colab\"/></a>"
      ]
    },
    {
      "cell_type": "markdown",
      "source": [
        "# **GitHub Commands**"
      ],
      "metadata": {
        "id": "dfnt-3pHg1KK"
      }
    },
    {
      "cell_type": "code",
      "execution_count": 15,
      "metadata": {
        "colab": {
          "base_uri": "https://localhost:8080/"
        },
        "id": "8ptD1MHrJvUC",
        "outputId": "e87c214a-8899-4344-ac76-b38983e8ef15"
      },
      "outputs": [
        {
          "output_type": "stream",
          "name": "stdout",
          "text": [
            "/content/drive/MyDrive/FYP/GitHub/Legal-Research-Platform\n"
          ]
        }
      ],
      "source": [
        "# @title GitHub Init\n",
        "from google.colab import userdata\n",
        "\n",
        "GH_UNAME = userdata.get('GH_UNAME')\n",
        "GH_APIKEY = userdata.get('GH_APIKEY')\n",
        "GH_EMAIL = userdata.get('GH_EMAIL')\n",
        "PRIMARY_REPO_NAME = 'Legal-Research-Platform'\n",
        "LOCAL_REPO_DIR = '/content/drive/MyDrive/FYP/GitHub/Legal-Research-Platform'\n",
        "\n",
        "!git config --global user.name {GH_UNAME}\n",
        "!git config --global user.email {GH_EMAIL}\n",
        "\n",
        "%cd {LOCAL_REPO_DIR}"
      ]
    },
    {
      "cell_type": "code",
      "execution_count": 2,
      "metadata": {
        "colab": {
          "base_uri": "https://localhost:8080/"
        },
        "id": "Un2Cou8UUAW5",
        "outputId": "81b70c1a-7b52-4225-a622-d59695cc8aae",
        "cellView": "form"
      },
      "outputs": [
        {
          "output_type": "stream",
          "name": "stdout",
          "text": [
            "Already up to date.\n"
          ]
        }
      ],
      "source": [
        "# @title Git <-\n",
        "!git fetch\n",
        "\n",
        "!git pull"
      ]
    },
    {
      "cell_type": "code",
      "source": [
        "# @title Git ->\n",
        "# !git add .\n",
        "\n",
        "# !git status\n",
        "\n",
        "# !git commit -m 'updated layout'\n",
        "\n",
        "!git push"
      ],
      "metadata": {
        "colab": {
          "base_uri": "https://localhost:8080/"
        },
        "id": "YW1VIDAkdnoK",
        "outputId": "54fa97ba-d1e5-4e7a-dab3-474bad2ffba3"
      },
      "execution_count": 16,
      "outputs": [
        {
          "output_type": "stream",
          "name": "stdout",
          "text": [
            "fatal: could not read Username for 'https://github.com': No such device or address\n"
          ]
        }
      ]
    },
    {
      "cell_type": "markdown",
      "source": [
        "# **Scripts**"
      ],
      "metadata": {
        "id": "N86tKpOPg-Qa"
      }
    },
    {
      "cell_type": "code",
      "source": [],
      "metadata": {
        "id": "RgxWOK9QiD4y"
      },
      "execution_count": null,
      "outputs": []
    }
  ],
  "metadata": {
    "accelerator": "TPU",
    "colab": {
      "cell_execution_strategy": "setup",
      "gpuType": "V28",
      "provenance": [],
      "mount_file_id": "https://github.com/HackElite-FYP/Legal-Research-Platform-Core/blob/main/colab-main.ipynb",
      "authorship_tag": "ABX9TyOfO8gOT2pJw3JUmJwyIR60",
      "include_colab_link": true
    },
    "kernelspec": {
      "display_name": "Python 3",
      "name": "python3"
    },
    "language_info": {
      "name": "python"
    }
  },
  "nbformat": 4,
  "nbformat_minor": 0
}