{
 "cells": [
  {
   "cell_type": "markdown",
   "metadata": {
    "colab_type": "text",
    "id": "view-in-github"
   },
   "source": [
    "<a href=\"https://colab.research.google.com/github/HackElite-FYP/Legal-Research-Platform/blob/main/main.ipynb\" target=\"_parent\"><img src=\"https://colab.research.google.com/assets/colab-badge.svg\" alt=\"Open In Colab\"/></a>"
   ]
  },
  {
   "cell_type": "code",
   "execution_count": 13,
   "metadata": {
    "colab": {
     "base_uri": "https://localhost:8080/"
    },
    "id": "8ptD1MHrJvUC",
    "outputId": "cbdf3d0c-2c98-4585-8e37-bcce027b9361"
   },
   "outputs": [
    {
     "name": "stdout",
     "output_type": "stream",
     "text": [
      "/content/drive/MyDrive/FYP/GitHub/Legal-Research-Platform\n"
     ]
    }
   ],
   "source": [
    "from google.colab import userdata\n",
    "\n",
    "GH_UNAME = userdata.get('GH_UNAME')\n",
    "GH_APIKEY = userdata.get('GH_APIKEY')\n",
    "PRIMARY_REPO_NAME = 'Legal-Research-Platform'\n",
    "LOCAL_REPO_DIR = '/content/drive/MyDrive/FYP/GitHub/Legal-Research-Platform'\n",
    "\n",
    "%cd {LOCAL_REPO_DIR}"
   ]
  },
  {
   "cell_type": "code",
   "execution_count": null,
   "metadata": {
    "colab": {
     "base_uri": "https://localhost:8080/"
    },
    "id": "Un2Cou8UUAW5",
    "outputId": "50c82d1a-bf04-4c6b-ae0e-5beb0b7ef815"
   },
   "outputs": [
    {
     "name": "stdout",
     "output_type": "stream",
     "text": [
      "\u001b[0m\u001b[01;34m.git\u001b[0m/  .gitignore  README.md\n"
     ]
    }
   ],
   "source": [
    "%ls -a"
   ]
  }
 ],
 "metadata": {
  "accelerator": "TPU",
  "colab": {
   "authorship_tag": "ABX9TyPQJhYdcn8P5MvxVb1l1owp",
   "cell_execution_strategy": "setup",
   "gpuType": "V28",
   "include_colab_link": true,
   "mount_file_id": "1fbgcNtAW9hDgkQbR8KoQyZ30nm9Ge36C",
   "provenance": []
  },
  "kernelspec": {
   "display_name": "Python 3",
   "name": "python3"
  },
  "language_info": {
   "name": "python"
  }
 },
 "nbformat": 4,
 "nbformat_minor": 0
}
