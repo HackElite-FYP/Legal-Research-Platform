{
  "cells": [
    {
      "cell_type": "markdown",
      "metadata": {
        "id": "view-in-github",
        "colab_type": "text"
      },
      "source": [
        "<a href=\"https://colab.research.google.com/github/HackElite-FYP/Legal-Research-Platform-Core/blob/main/colab-main.ipynb\" target=\"_parent\"><img src=\"https://colab.research.google.com/assets/colab-badge.svg\" alt=\"Open In Colab\"/></a>"
      ]
    },
    {
      "cell_type": "code",
      "execution_count": 1,
      "metadata": {
        "colab": {
          "base_uri": "https://localhost:8080/"
        },
        "id": "8ptD1MHrJvUC",
        "outputId": "b71ac701-4552-4be7-a802-e943f7976aa5"
      },
      "outputs": [
        {
          "output_type": "stream",
          "name": "stdout",
          "text": [
            "/content/drive/MyDrive/FYP/GitHub/Legal-Research-Platform\n"
          ]
        }
      ],
      "source": [
        "from google.colab import userdata\n",
        "\n",
        "GH_UNAME = userdata.get('GH_UNAME')\n",
        "GH_APIKEY = userdata.get('GH_APIKEY')\n",
        "GH_EMAIL = userdata.get('GH_EMAIL')\n",
        "PRIMARY_REPO_NAME = 'Legal-Research-Platform'\n",
        "LOCAL_REPO_DIR = '/content/drive/MyDrive/FYP/GitHub/Legal-Research-Platform'\n",
        "\n",
        "!git config --global user.name \"{GH_UNAME}\"\n",
        "!git config --global user.email \"{GH_EMAIL}\"\n",
        "\n",
        "%cd {LOCAL_REPO_DIR}"
      ]
    },
    {
      "cell_type": "code",
      "execution_count": 2,
      "metadata": {
        "colab": {
          "base_uri": "https://localhost:8080/"
        },
        "id": "Un2Cou8UUAW5",
        "outputId": "81b70c1a-7b52-4225-a622-d59695cc8aae"
      },
      "outputs": [
        {
          "output_type": "stream",
          "name": "stdout",
          "text": [
            "Already up to date.\n"
          ]
        }
      ],
      "source": [
        "!git fetch\n",
        "\n",
        "!git pull"
      ]
    },
    {
      "cell_type": "code",
      "source": [
        "!git add .\n",
        "\n",
        "!git status\n",
        "\n",
        "!git commit -m 'initialize with colab'\n",
        "\n",
        "# !git push"
      ],
      "metadata": {
        "colab": {
          "base_uri": "https://localhost:8080/"
        },
        "id": "YW1VIDAkdnoK",
        "outputId": "6a235961-b60d-4375-d8ad-36c31b3fd353"
      },
      "execution_count": 3,
      "outputs": [
        {
          "output_type": "stream",
          "name": "stdout",
          "text": [
            "On branch main\n",
            "Your branch is up to date with 'origin/main'.\n",
            "\n",
            "Changes to be committed:\n",
            "  (use \"git restore --staged <file>...\" to unstage)\n",
            "\t\u001b[32mmodified:   colab-main.ipynb\u001b[m\n",
            "\n",
            "[main efb13b2] initialize with colab\n",
            " 1 file changed, 1 insertion(+), 87 deletions(-)\n",
            " rewrite colab-main.ipynb (100%)\n"
          ]
        }
      ]
    }
  ],
  "metadata": {
    "accelerator": "TPU",
    "colab": {
      "cell_execution_strategy": "setup",
      "gpuType": "V28",
      "provenance": [],
      "mount_file_id": "https://github.com/HackElite-FYP/Legal-Research-Platform-Core/blob/main/colab-main.ipynb",
      "authorship_tag": "ABX9TyM2ka7ag5hVjqF6/wS+V7eS",
      "include_colab_link": true
    },
    "kernelspec": {
      "display_name": "Python 3",
      "name": "python3"
    },
    "language_info": {
      "name": "python"
    }
  },
  "nbformat": 4,
  "nbformat_minor": 0
}