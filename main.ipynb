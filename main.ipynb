{
  "nbformat": 4,
  "nbformat_minor": 0,
  "metadata": {
    "colab": {
      "provenance": [],
      "gpuType": "V28",
      "cell_execution_strategy": "setup",
      "mount_file_id": "1fbgcNtAW9hDgkQbR8KoQyZ30nm9Ge36C",
      "authorship_tag": "ABX9TyPQJhYdcn8P5MvxVb1l1owp",
      "include_colab_link": true
    },
    "kernelspec": {
      "name": "python3",
      "display_name": "Python 3"
    },
    "language_info": {
      "name": "python"
    },
    "accelerator": "TPU"
  },
  "cells": [
    {
      "cell_type": "markdown",
      "metadata": {
        "id": "view-in-github",
        "colab_type": "text"
      },
      "source": [
        "<a href=\"https://colab.research.google.com/github/HackElite-FYP/Legal-Research-Platform/blob/main/main.ipynb\" target=\"_parent\"><img src=\"https://colab.research.google.com/assets/colab-badge.svg\" alt=\"Open In Colab\"/></a>"
      ]
    },
    {
      "cell_type": "code",
      "execution_count": 13,
      "metadata": {
        "colab": {
          "base_uri": "https://localhost:8080/"
        },
        "id": "8ptD1MHrJvUC",
        "outputId": "cbdf3d0c-2c98-4585-8e37-bcce027b9361"
      },
      "outputs": [
        {
          "output_type": "stream",
          "name": "stdout",
          "text": [
            "/content/drive/MyDrive/FYP/GitHub/Legal-Research-Platform\n"
          ]
        }
      ],
      "source": [
        "from google.colab import userdata\n",
        "\n",
        "GH_UNAME = userdata.get('GH_UNAME')\n",
        "GH_APIKEY = userdata.get('GH_APIKEY')\n",
        "PRIMARY_REPO_NAME = 'Legal-Research-Platform'\n",
        "LOCAL_REPO_DIR = '/content/drive/MyDrive/FYP/GitHub/Legal-Research-Platform'\n",
        "\n",
        "%cd {LOCAL_REPO_DIR}"
      ]
    },
    {
      "cell_type": "code",
      "source": [
        "%ls -a"
      ],
      "metadata": {
        "colab": {
          "base_uri": "https://localhost:8080/"
        },
        "id": "Un2Cou8UUAW5",
        "outputId": "50c82d1a-bf04-4c6b-ae0e-5beb0b7ef815"
      },
      "execution_count": 14,
      "outputs": [
        {
          "output_type": "stream",
          "name": "stdout",
          "text": [
            "\u001b[0m\u001b[01;34m.git\u001b[0m/  .gitignore  README.md\n"
          ]
        }
      ]
    }
  ]
}